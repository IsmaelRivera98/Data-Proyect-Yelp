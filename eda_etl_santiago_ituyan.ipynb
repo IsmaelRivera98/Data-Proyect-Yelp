{
  "nbformat": 4,
  "nbformat_minor": 0,
  "metadata": {
    "colab": {
      "provenance": []
    },
    "kernelspec": {
      "name": "python3",
      "display_name": "Python 3"
    },
    "language_info": {
      "name": "python"
    }
  },
  "cells": [
    {
      "cell_type": "code",
      "execution_count": null,
      "metadata": {
        "id": "Y0vVN9ahKpj_"
      },
      "outputs": [],
      "source": [
        "#importamos librerias\n",
        "\n",
        "import pandas as pd\n",
        "import numpy as np\n",
        "import datetime\n",
        "from decimal import Decimal\n",
        "import json\n",
        "import os"
      ]
    },
    {
      "cell_type": "code",
      "source": [
        "!pip install sweetviz"
      ],
      "metadata": {
        "id": "-maF1AvgOR04"
      },
      "execution_count": null,
      "outputs": []
    },
    {
      "cell_type": "code",
      "source": [
        "import sweetviz as sv"
      ],
      "metadata": {
        "id": "7FqUZr4iOU9t"
      },
      "execution_count": null,
      "outputs": []
    },
    {
      "cell_type": "code",
      "source": [
        "#leemos el archivo checkin de la carpeta yelp\n",
        "check = pd.read_json('/content/drive/MyDrive/Yelp/checkin.json', lines= True )"
      ],
      "metadata": {
        "id": "6XZTLNi9AnJA"
      },
      "execution_count": null,
      "outputs": []
    },
    {
      "cell_type": "code",
      "source": [
        "#un pequeño analisis con .describe()\n",
        "check.describe()"
      ],
      "metadata": {
        "colab": {
          "base_uri": "https://localhost:8080/",
          "height": 175
        },
        "id": "NdA7OA5tDere",
        "outputId": "b9c57ce7-4850-4517-8839-b44aeead3f6b"
      },
      "execution_count": null,
      "outputs": [
        {
          "output_type": "execute_result",
          "data": {
            "text/plain": [
              "                   business_id  \\\n",
              "count                   131930   \n",
              "unique                  131930   \n",
              "top     ---kPU91CF4Lq2-WlRu9Lw   \n",
              "freq                         1   \n",
              "\n",
              "                                                     date  \n",
              "count                                              131930  \n",
              "unique                                             131930  \n",
              "top     2020-03-13 21:10:56, 2020-06-02 22:18:06, 2020...  \n",
              "freq                                                    1  "
            ],
            "text/html": [
              "\n",
              "  <div id=\"df-9708a72e-7ff7-4481-a52e-38e4a4c4751f\" class=\"colab-df-container\">\n",
              "    <div>\n",
              "<style scoped>\n",
              "    .dataframe tbody tr th:only-of-type {\n",
              "        vertical-align: middle;\n",
              "    }\n",
              "\n",
              "    .dataframe tbody tr th {\n",
              "        vertical-align: top;\n",
              "    }\n",
              "\n",
              "    .dataframe thead th {\n",
              "        text-align: right;\n",
              "    }\n",
              "</style>\n",
              "<table border=\"1\" class=\"dataframe\">\n",
              "  <thead>\n",
              "    <tr style=\"text-align: right;\">\n",
              "      <th></th>\n",
              "      <th>business_id</th>\n",
              "      <th>date</th>\n",
              "    </tr>\n",
              "  </thead>\n",
              "  <tbody>\n",
              "    <tr>\n",
              "      <th>count</th>\n",
              "      <td>131930</td>\n",
              "      <td>131930</td>\n",
              "    </tr>\n",
              "    <tr>\n",
              "      <th>unique</th>\n",
              "      <td>131930</td>\n",
              "      <td>131930</td>\n",
              "    </tr>\n",
              "    <tr>\n",
              "      <th>top</th>\n",
              "      <td>---kPU91CF4Lq2-WlRu9Lw</td>\n",
              "      <td>2020-03-13 21:10:56, 2020-06-02 22:18:06, 2020...</td>\n",
              "    </tr>\n",
              "    <tr>\n",
              "      <th>freq</th>\n",
              "      <td>1</td>\n",
              "      <td>1</td>\n",
              "    </tr>\n",
              "  </tbody>\n",
              "</table>\n",
              "</div>\n",
              "    <div class=\"colab-df-buttons\">\n",
              "\n",
              "  <div class=\"colab-df-container\">\n",
              "    <button class=\"colab-df-convert\" onclick=\"convertToInteractive('df-9708a72e-7ff7-4481-a52e-38e4a4c4751f')\"\n",
              "            title=\"Convert this dataframe to an interactive table.\"\n",
              "            style=\"display:none;\">\n",
              "\n",
              "  <svg xmlns=\"http://www.w3.org/2000/svg\" height=\"24px\" viewBox=\"0 -960 960 960\">\n",
              "    <path d=\"M120-120v-720h720v720H120Zm60-500h600v-160H180v160Zm220 220h160v-160H400v160Zm0 220h160v-160H400v160ZM180-400h160v-160H180v160Zm440 0h160v-160H620v160ZM180-180h160v-160H180v160Zm440 0h160v-160H620v160Z\"/>\n",
              "  </svg>\n",
              "    </button>\n",
              "\n",
              "  <style>\n",
              "    .colab-df-container {\n",
              "      display:flex;\n",
              "      gap: 12px;\n",
              "    }\n",
              "\n",
              "    .colab-df-convert {\n",
              "      background-color: #E8F0FE;\n",
              "      border: none;\n",
              "      border-radius: 50%;\n",
              "      cursor: pointer;\n",
              "      display: none;\n",
              "      fill: #1967D2;\n",
              "      height: 32px;\n",
              "      padding: 0 0 0 0;\n",
              "      width: 32px;\n",
              "    }\n",
              "\n",
              "    .colab-df-convert:hover {\n",
              "      background-color: #E2EBFA;\n",
              "      box-shadow: 0px 1px 2px rgba(60, 64, 67, 0.3), 0px 1px 3px 1px rgba(60, 64, 67, 0.15);\n",
              "      fill: #174EA6;\n",
              "    }\n",
              "\n",
              "    .colab-df-buttons div {\n",
              "      margin-bottom: 4px;\n",
              "    }\n",
              "\n",
              "    [theme=dark] .colab-df-convert {\n",
              "      background-color: #3B4455;\n",
              "      fill: #D2E3FC;\n",
              "    }\n",
              "\n",
              "    [theme=dark] .colab-df-convert:hover {\n",
              "      background-color: #434B5C;\n",
              "      box-shadow: 0px 1px 3px 1px rgba(0, 0, 0, 0.15);\n",
              "      filter: drop-shadow(0px 1px 2px rgba(0, 0, 0, 0.3));\n",
              "      fill: #FFFFFF;\n",
              "    }\n",
              "  </style>\n",
              "\n",
              "    <script>\n",
              "      const buttonEl =\n",
              "        document.querySelector('#df-9708a72e-7ff7-4481-a52e-38e4a4c4751f button.colab-df-convert');\n",
              "      buttonEl.style.display =\n",
              "        google.colab.kernel.accessAllowed ? 'block' : 'none';\n",
              "\n",
              "      async function convertToInteractive(key) {\n",
              "        const element = document.querySelector('#df-9708a72e-7ff7-4481-a52e-38e4a4c4751f');\n",
              "        const dataTable =\n",
              "          await google.colab.kernel.invokeFunction('convertToInteractive',\n",
              "                                                    [key], {});\n",
              "        if (!dataTable) return;\n",
              "\n",
              "        const docLinkHtml = 'Like what you see? Visit the ' +\n",
              "          '<a target=\"_blank\" href=https://colab.research.google.com/notebooks/data_table.ipynb>data table notebook</a>'\n",
              "          + ' to learn more about interactive tables.';\n",
              "        element.innerHTML = '';\n",
              "        dataTable['output_type'] = 'display_data';\n",
              "        await google.colab.output.renderOutput(dataTable, element);\n",
              "        const docLink = document.createElement('div');\n",
              "        docLink.innerHTML = docLinkHtml;\n",
              "        element.appendChild(docLink);\n",
              "      }\n",
              "    </script>\n",
              "  </div>\n",
              "\n",
              "\n",
              "<div id=\"df-6cc4c702-98d8-4de9-bebe-e2ab0029dd17\">\n",
              "  <button class=\"colab-df-quickchart\" onclick=\"quickchart('df-6cc4c702-98d8-4de9-bebe-e2ab0029dd17')\"\n",
              "            title=\"Suggest charts.\"\n",
              "            style=\"display:none;\">\n",
              "\n",
              "<svg xmlns=\"http://www.w3.org/2000/svg\" height=\"24px\"viewBox=\"0 0 24 24\"\n",
              "     width=\"24px\">\n",
              "    <g>\n",
              "        <path d=\"M19 3H5c-1.1 0-2 .9-2 2v14c0 1.1.9 2 2 2h14c1.1 0 2-.9 2-2V5c0-1.1-.9-2-2-2zM9 17H7v-7h2v7zm4 0h-2V7h2v10zm4 0h-2v-4h2v4z\"/>\n",
              "    </g>\n",
              "</svg>\n",
              "  </button>\n",
              "\n",
              "<style>\n",
              "  .colab-df-quickchart {\n",
              "      --bg-color: #E8F0FE;\n",
              "      --fill-color: #1967D2;\n",
              "      --hover-bg-color: #E2EBFA;\n",
              "      --hover-fill-color: #174EA6;\n",
              "      --disabled-fill-color: #AAA;\n",
              "      --disabled-bg-color: #DDD;\n",
              "  }\n",
              "\n",
              "  [theme=dark] .colab-df-quickchart {\n",
              "      --bg-color: #3B4455;\n",
              "      --fill-color: #D2E3FC;\n",
              "      --hover-bg-color: #434B5C;\n",
              "      --hover-fill-color: #FFFFFF;\n",
              "      --disabled-bg-color: #3B4455;\n",
              "      --disabled-fill-color: #666;\n",
              "  }\n",
              "\n",
              "  .colab-df-quickchart {\n",
              "    background-color: var(--bg-color);\n",
              "    border: none;\n",
              "    border-radius: 50%;\n",
              "    cursor: pointer;\n",
              "    display: none;\n",
              "    fill: var(--fill-color);\n",
              "    height: 32px;\n",
              "    padding: 0;\n",
              "    width: 32px;\n",
              "  }\n",
              "\n",
              "  .colab-df-quickchart:hover {\n",
              "    background-color: var(--hover-bg-color);\n",
              "    box-shadow: 0 1px 2px rgba(60, 64, 67, 0.3), 0 1px 3px 1px rgba(60, 64, 67, 0.15);\n",
              "    fill: var(--button-hover-fill-color);\n",
              "  }\n",
              "\n",
              "  .colab-df-quickchart-complete:disabled,\n",
              "  .colab-df-quickchart-complete:disabled:hover {\n",
              "    background-color: var(--disabled-bg-color);\n",
              "    fill: var(--disabled-fill-color);\n",
              "    box-shadow: none;\n",
              "  }\n",
              "\n",
              "  .colab-df-spinner {\n",
              "    border: 2px solid var(--fill-color);\n",
              "    border-color: transparent;\n",
              "    border-bottom-color: var(--fill-color);\n",
              "    animation:\n",
              "      spin 1s steps(1) infinite;\n",
              "  }\n",
              "\n",
              "  @keyframes spin {\n",
              "    0% {\n",
              "      border-color: transparent;\n",
              "      border-bottom-color: var(--fill-color);\n",
              "      border-left-color: var(--fill-color);\n",
              "    }\n",
              "    20% {\n",
              "      border-color: transparent;\n",
              "      border-left-color: var(--fill-color);\n",
              "      border-top-color: var(--fill-color);\n",
              "    }\n",
              "    30% {\n",
              "      border-color: transparent;\n",
              "      border-left-color: var(--fill-color);\n",
              "      border-top-color: var(--fill-color);\n",
              "      border-right-color: var(--fill-color);\n",
              "    }\n",
              "    40% {\n",
              "      border-color: transparent;\n",
              "      border-right-color: var(--fill-color);\n",
              "      border-top-color: var(--fill-color);\n",
              "    }\n",
              "    60% {\n",
              "      border-color: transparent;\n",
              "      border-right-color: var(--fill-color);\n",
              "    }\n",
              "    80% {\n",
              "      border-color: transparent;\n",
              "      border-right-color: var(--fill-color);\n",
              "      border-bottom-color: var(--fill-color);\n",
              "    }\n",
              "    90% {\n",
              "      border-color: transparent;\n",
              "      border-bottom-color: var(--fill-color);\n",
              "    }\n",
              "  }\n",
              "</style>\n",
              "\n",
              "  <script>\n",
              "    async function quickchart(key) {\n",
              "      const quickchartButtonEl =\n",
              "        document.querySelector('#' + key + ' button');\n",
              "      quickchartButtonEl.disabled = true;  // To prevent multiple clicks.\n",
              "      quickchartButtonEl.classList.add('colab-df-spinner');\n",
              "      try {\n",
              "        const charts = await google.colab.kernel.invokeFunction(\n",
              "            'suggestCharts', [key], {});\n",
              "      } catch (error) {\n",
              "        console.error('Error during call to suggestCharts:', error);\n",
              "      }\n",
              "      quickchartButtonEl.classList.remove('colab-df-spinner');\n",
              "      quickchartButtonEl.classList.add('colab-df-quickchart-complete');\n",
              "    }\n",
              "    (() => {\n",
              "      let quickchartButtonEl =\n",
              "        document.querySelector('#df-6cc4c702-98d8-4de9-bebe-e2ab0029dd17 button');\n",
              "      quickchartButtonEl.style.display =\n",
              "        google.colab.kernel.accessAllowed ? 'block' : 'none';\n",
              "    })();\n",
              "  </script>\n",
              "</div>\n",
              "    </div>\n",
              "  </div>\n"
            ]
          },
          "metadata": {},
          "execution_count": 4
        }
      ]
    },
    {
      "cell_type": "code",
      "source": [
        "#revisamos que no hayan nulos y duplicados\n",
        "check.isnull().sum()\n"
      ],
      "metadata": {
        "id": "JthRUjXpYu-X",
        "colab": {
          "base_uri": "https://localhost:8080/"
        },
        "outputId": "c4092e94-f06c-4935-f3cc-8edacf0108c1"
      },
      "execution_count": null,
      "outputs": [
        {
          "output_type": "execute_result",
          "data": {
            "text/plain": [
              "0"
            ]
          },
          "metadata": {},
          "execution_count": 5
        }
      ]
    },
    {
      "cell_type": "code",
      "source": [
        "check.duplicated().sum()"
      ],
      "metadata": {
        "id": "5kTbAmK6WIQ6"
      },
      "execution_count": null,
      "outputs": []
    },
    {
      "cell_type": "code",
      "source": [
        "check"
      ],
      "metadata": {
        "colab": {
          "base_uri": "https://localhost:8080/",
          "height": 424
        },
        "id": "13_-Dh_kXObR",
        "outputId": "d81d8cb3-5a83-4ecc-d2a9-ac439174f537"
      },
      "execution_count": null,
      "outputs": [
        {
          "output_type": "execute_result",
          "data": {
            "text/plain": [
              "                   business_id  \\\n",
              "0       ---kPU91CF4Lq2-WlRu9Lw   \n",
              "1       --0iUa4sNDFiZFrAdIWhZQ   \n",
              "2       --30_8IhuyMHbSOcNWd6DQ   \n",
              "3       --7PUidqRWpRSpXebiyxTg   \n",
              "4       --7jw19RH9JKXgFohspgQw   \n",
              "...                        ...   \n",
              "131925  zznJox6-nmXlGYNWgTDwQQ   \n",
              "131926  zznZqH9CiAznbkV6fXyHWA   \n",
              "131927  zzu6_r3DxBJuXcjnOYVdTw   \n",
              "131928  zzw66H6hVjXQEt0Js3Mo4A   \n",
              "131929  zzyx5x0Z7xXWWvWnZFuxlQ   \n",
              "\n",
              "                                                     date  \n",
              "0       2020-03-13 21:10:56, 2020-06-02 22:18:06, 2020...  \n",
              "1       2010-09-13 21:43:09, 2011-05-04 23:08:15, 2011...  \n",
              "2                2013-06-14 23:29:17, 2014-08-13 23:20:22  \n",
              "3       2011-02-15 17:12:00, 2011-07-28 02:46:10, 2012...  \n",
              "4       2014-04-21 20:42:11, 2014-04-28 21:04:46, 2014...  \n",
              "...                                                   ...  \n",
              "131925  2013-03-23 16:22:47, 2013-04-07 02:03:12, 2013...  \n",
              "131926                                2021-06-12 01:16:12  \n",
              "131927  2011-05-24 01:35:13, 2012-01-01 23:44:33, 2012...  \n",
              "131928           2016-12-03 23:33:26, 2018-12-02 19:08:45  \n",
              "131929                                2015-01-06 17:51:53  \n",
              "\n",
              "[131930 rows x 2 columns]"
            ],
            "text/html": [
              "\n",
              "  <div id=\"df-40e7bf78-69af-4fae-af4c-3f2f10c1095d\" class=\"colab-df-container\">\n",
              "    <div>\n",
              "<style scoped>\n",
              "    .dataframe tbody tr th:only-of-type {\n",
              "        vertical-align: middle;\n",
              "    }\n",
              "\n",
              "    .dataframe tbody tr th {\n",
              "        vertical-align: top;\n",
              "    }\n",
              "\n",
              "    .dataframe thead th {\n",
              "        text-align: right;\n",
              "    }\n",
              "</style>\n",
              "<table border=\"1\" class=\"dataframe\">\n",
              "  <thead>\n",
              "    <tr style=\"text-align: right;\">\n",
              "      <th></th>\n",
              "      <th>business_id</th>\n",
              "      <th>date</th>\n",
              "    </tr>\n",
              "  </thead>\n",
              "  <tbody>\n",
              "    <tr>\n",
              "      <th>0</th>\n",
              "      <td>---kPU91CF4Lq2-WlRu9Lw</td>\n",
              "      <td>2020-03-13 21:10:56, 2020-06-02 22:18:06, 2020...</td>\n",
              "    </tr>\n",
              "    <tr>\n",
              "      <th>1</th>\n",
              "      <td>--0iUa4sNDFiZFrAdIWhZQ</td>\n",
              "      <td>2010-09-13 21:43:09, 2011-05-04 23:08:15, 2011...</td>\n",
              "    </tr>\n",
              "    <tr>\n",
              "      <th>2</th>\n",
              "      <td>--30_8IhuyMHbSOcNWd6DQ</td>\n",
              "      <td>2013-06-14 23:29:17, 2014-08-13 23:20:22</td>\n",
              "    </tr>\n",
              "    <tr>\n",
              "      <th>3</th>\n",
              "      <td>--7PUidqRWpRSpXebiyxTg</td>\n",
              "      <td>2011-02-15 17:12:00, 2011-07-28 02:46:10, 2012...</td>\n",
              "    </tr>\n",
              "    <tr>\n",
              "      <th>4</th>\n",
              "      <td>--7jw19RH9JKXgFohspgQw</td>\n",
              "      <td>2014-04-21 20:42:11, 2014-04-28 21:04:46, 2014...</td>\n",
              "    </tr>\n",
              "    <tr>\n",
              "      <th>...</th>\n",
              "      <td>...</td>\n",
              "      <td>...</td>\n",
              "    </tr>\n",
              "    <tr>\n",
              "      <th>131925</th>\n",
              "      <td>zznJox6-nmXlGYNWgTDwQQ</td>\n",
              "      <td>2013-03-23 16:22:47, 2013-04-07 02:03:12, 2013...</td>\n",
              "    </tr>\n",
              "    <tr>\n",
              "      <th>131926</th>\n",
              "      <td>zznZqH9CiAznbkV6fXyHWA</td>\n",
              "      <td>2021-06-12 01:16:12</td>\n",
              "    </tr>\n",
              "    <tr>\n",
              "      <th>131927</th>\n",
              "      <td>zzu6_r3DxBJuXcjnOYVdTw</td>\n",
              "      <td>2011-05-24 01:35:13, 2012-01-01 23:44:33, 2012...</td>\n",
              "    </tr>\n",
              "    <tr>\n",
              "      <th>131928</th>\n",
              "      <td>zzw66H6hVjXQEt0Js3Mo4A</td>\n",
              "      <td>2016-12-03 23:33:26, 2018-12-02 19:08:45</td>\n",
              "    </tr>\n",
              "    <tr>\n",
              "      <th>131929</th>\n",
              "      <td>zzyx5x0Z7xXWWvWnZFuxlQ</td>\n",
              "      <td>2015-01-06 17:51:53</td>\n",
              "    </tr>\n",
              "  </tbody>\n",
              "</table>\n",
              "<p>131930 rows × 2 columns</p>\n",
              "</div>\n",
              "    <div class=\"colab-df-buttons\">\n",
              "\n",
              "  <div class=\"colab-df-container\">\n",
              "    <button class=\"colab-df-convert\" onclick=\"convertToInteractive('df-40e7bf78-69af-4fae-af4c-3f2f10c1095d')\"\n",
              "            title=\"Convert this dataframe to an interactive table.\"\n",
              "            style=\"display:none;\">\n",
              "\n",
              "  <svg xmlns=\"http://www.w3.org/2000/svg\" height=\"24px\" viewBox=\"0 -960 960 960\">\n",
              "    <path d=\"M120-120v-720h720v720H120Zm60-500h600v-160H180v160Zm220 220h160v-160H400v160Zm0 220h160v-160H400v160ZM180-400h160v-160H180v160Zm440 0h160v-160H620v160ZM180-180h160v-160H180v160Zm440 0h160v-160H620v160Z\"/>\n",
              "  </svg>\n",
              "    </button>\n",
              "\n",
              "  <style>\n",
              "    .colab-df-container {\n",
              "      display:flex;\n",
              "      gap: 12px;\n",
              "    }\n",
              "\n",
              "    .colab-df-convert {\n",
              "      background-color: #E8F0FE;\n",
              "      border: none;\n",
              "      border-radius: 50%;\n",
              "      cursor: pointer;\n",
              "      display: none;\n",
              "      fill: #1967D2;\n",
              "      height: 32px;\n",
              "      padding: 0 0 0 0;\n",
              "      width: 32px;\n",
              "    }\n",
              "\n",
              "    .colab-df-convert:hover {\n",
              "      background-color: #E2EBFA;\n",
              "      box-shadow: 0px 1px 2px rgba(60, 64, 67, 0.3), 0px 1px 3px 1px rgba(60, 64, 67, 0.15);\n",
              "      fill: #174EA6;\n",
              "    }\n",
              "\n",
              "    .colab-df-buttons div {\n",
              "      margin-bottom: 4px;\n",
              "    }\n",
              "\n",
              "    [theme=dark] .colab-df-convert {\n",
              "      background-color: #3B4455;\n",
              "      fill: #D2E3FC;\n",
              "    }\n",
              "\n",
              "    [theme=dark] .colab-df-convert:hover {\n",
              "      background-color: #434B5C;\n",
              "      box-shadow: 0px 1px 3px 1px rgba(0, 0, 0, 0.15);\n",
              "      filter: drop-shadow(0px 1px 2px rgba(0, 0, 0, 0.3));\n",
              "      fill: #FFFFFF;\n",
              "    }\n",
              "  </style>\n",
              "\n",
              "    <script>\n",
              "      const buttonEl =\n",
              "        document.querySelector('#df-40e7bf78-69af-4fae-af4c-3f2f10c1095d button.colab-df-convert');\n",
              "      buttonEl.style.display =\n",
              "        google.colab.kernel.accessAllowed ? 'block' : 'none';\n",
              "\n",
              "      async function convertToInteractive(key) {\n",
              "        const element = document.querySelector('#df-40e7bf78-69af-4fae-af4c-3f2f10c1095d');\n",
              "        const dataTable =\n",
              "          await google.colab.kernel.invokeFunction('convertToInteractive',\n",
              "                                                    [key], {});\n",
              "        if (!dataTable) return;\n",
              "\n",
              "        const docLinkHtml = 'Like what you see? Visit the ' +\n",
              "          '<a target=\"_blank\" href=https://colab.research.google.com/notebooks/data_table.ipynb>data table notebook</a>'\n",
              "          + ' to learn more about interactive tables.';\n",
              "        element.innerHTML = '';\n",
              "        dataTable['output_type'] = 'display_data';\n",
              "        await google.colab.output.renderOutput(dataTable, element);\n",
              "        const docLink = document.createElement('div');\n",
              "        docLink.innerHTML = docLinkHtml;\n",
              "        element.appendChild(docLink);\n",
              "      }\n",
              "    </script>\n",
              "  </div>\n",
              "\n",
              "\n",
              "<div id=\"df-b769b1fc-316b-45a7-bf76-3aca16186f1c\">\n",
              "  <button class=\"colab-df-quickchart\" onclick=\"quickchart('df-b769b1fc-316b-45a7-bf76-3aca16186f1c')\"\n",
              "            title=\"Suggest charts.\"\n",
              "            style=\"display:none;\">\n",
              "\n",
              "<svg xmlns=\"http://www.w3.org/2000/svg\" height=\"24px\"viewBox=\"0 0 24 24\"\n",
              "     width=\"24px\">\n",
              "    <g>\n",
              "        <path d=\"M19 3H5c-1.1 0-2 .9-2 2v14c0 1.1.9 2 2 2h14c1.1 0 2-.9 2-2V5c0-1.1-.9-2-2-2zM9 17H7v-7h2v7zm4 0h-2V7h2v10zm4 0h-2v-4h2v4z\"/>\n",
              "    </g>\n",
              "</svg>\n",
              "  </button>\n",
              "\n",
              "<style>\n",
              "  .colab-df-quickchart {\n",
              "      --bg-color: #E8F0FE;\n",
              "      --fill-color: #1967D2;\n",
              "      --hover-bg-color: #E2EBFA;\n",
              "      --hover-fill-color: #174EA6;\n",
              "      --disabled-fill-color: #AAA;\n",
              "      --disabled-bg-color: #DDD;\n",
              "  }\n",
              "\n",
              "  [theme=dark] .colab-df-quickchart {\n",
              "      --bg-color: #3B4455;\n",
              "      --fill-color: #D2E3FC;\n",
              "      --hover-bg-color: #434B5C;\n",
              "      --hover-fill-color: #FFFFFF;\n",
              "      --disabled-bg-color: #3B4455;\n",
              "      --disabled-fill-color: #666;\n",
              "  }\n",
              "\n",
              "  .colab-df-quickchart {\n",
              "    background-color: var(--bg-color);\n",
              "    border: none;\n",
              "    border-radius: 50%;\n",
              "    cursor: pointer;\n",
              "    display: none;\n",
              "    fill: var(--fill-color);\n",
              "    height: 32px;\n",
              "    padding: 0;\n",
              "    width: 32px;\n",
              "  }\n",
              "\n",
              "  .colab-df-quickchart:hover {\n",
              "    background-color: var(--hover-bg-color);\n",
              "    box-shadow: 0 1px 2px rgba(60, 64, 67, 0.3), 0 1px 3px 1px rgba(60, 64, 67, 0.15);\n",
              "    fill: var(--button-hover-fill-color);\n",
              "  }\n",
              "\n",
              "  .colab-df-quickchart-complete:disabled,\n",
              "  .colab-df-quickchart-complete:disabled:hover {\n",
              "    background-color: var(--disabled-bg-color);\n",
              "    fill: var(--disabled-fill-color);\n",
              "    box-shadow: none;\n",
              "  }\n",
              "\n",
              "  .colab-df-spinner {\n",
              "    border: 2px solid var(--fill-color);\n",
              "    border-color: transparent;\n",
              "    border-bottom-color: var(--fill-color);\n",
              "    animation:\n",
              "      spin 1s steps(1) infinite;\n",
              "  }\n",
              "\n",
              "  @keyframes spin {\n",
              "    0% {\n",
              "      border-color: transparent;\n",
              "      border-bottom-color: var(--fill-color);\n",
              "      border-left-color: var(--fill-color);\n",
              "    }\n",
              "    20% {\n",
              "      border-color: transparent;\n",
              "      border-left-color: var(--fill-color);\n",
              "      border-top-color: var(--fill-color);\n",
              "    }\n",
              "    30% {\n",
              "      border-color: transparent;\n",
              "      border-left-color: var(--fill-color);\n",
              "      border-top-color: var(--fill-color);\n",
              "      border-right-color: var(--fill-color);\n",
              "    }\n",
              "    40% {\n",
              "      border-color: transparent;\n",
              "      border-right-color: var(--fill-color);\n",
              "      border-top-color: var(--fill-color);\n",
              "    }\n",
              "    60% {\n",
              "      border-color: transparent;\n",
              "      border-right-color: var(--fill-color);\n",
              "    }\n",
              "    80% {\n",
              "      border-color: transparent;\n",
              "      border-right-color: var(--fill-color);\n",
              "      border-bottom-color: var(--fill-color);\n",
              "    }\n",
              "    90% {\n",
              "      border-color: transparent;\n",
              "      border-bottom-color: var(--fill-color);\n",
              "    }\n",
              "  }\n",
              "</style>\n",
              "\n",
              "  <script>\n",
              "    async function quickchart(key) {\n",
              "      const quickchartButtonEl =\n",
              "        document.querySelector('#' + key + ' button');\n",
              "      quickchartButtonEl.disabled = true;  // To prevent multiple clicks.\n",
              "      quickchartButtonEl.classList.add('colab-df-spinner');\n",
              "      try {\n",
              "        const charts = await google.colab.kernel.invokeFunction(\n",
              "            'suggestCharts', [key], {});\n",
              "      } catch (error) {\n",
              "        console.error('Error during call to suggestCharts:', error);\n",
              "      }\n",
              "      quickchartButtonEl.classList.remove('colab-df-spinner');\n",
              "      quickchartButtonEl.classList.add('colab-df-quickchart-complete');\n",
              "    }\n",
              "    (() => {\n",
              "      let quickchartButtonEl =\n",
              "        document.querySelector('#df-b769b1fc-316b-45a7-bf76-3aca16186f1c button');\n",
              "      quickchartButtonEl.style.display =\n",
              "        google.colab.kernel.accessAllowed ? 'block' : 'none';\n",
              "    })();\n",
              "  </script>\n",
              "</div>\n",
              "    </div>\n",
              "  </div>\n"
            ]
          },
          "metadata": {},
          "execution_count": 6
        }
      ]
    },
    {
      "cell_type": "code",
      "source": [
        "# Define una función para convertir un valor de tiempo en milisegundos a una fecha\n",
        "def convertir_a_fecha(timestamp):\n",
        "    timestamp /= 1000  # Convertir milisegundos a segundos\n",
        "    fecha = datetime.datetime.utcfromtimestamp(timestamp)\n",
        "    return fecha\n"
      ],
      "metadata": {
        "id": "dQBbC_JZXWzJ"
      },
      "execution_count": null,
      "outputs": []
    },
    {
      "cell_type": "markdown",
      "source": [
        "Conversiones"
      ],
      "metadata": {
        "id": "8Rd6TrzSX_BR"
      }
    },
    {
      "cell_type": "code",
      "source": [
        "#importamos los archivos de drive para que sean accesibles\n",
        "from google.colab import drive\n",
        "drive.mount('/content/drive')"
      ],
      "metadata": {
        "colab": {
          "base_uri": "https://localhost:8080/"
        },
        "id": "31RcnIo1HWMC",
        "outputId": "157b4022-39e5-42a4-dbc0-37a2894670e7"
      },
      "execution_count": null,
      "outputs": [
        {
          "output_type": "stream",
          "name": "stdout",
          "text": [
            "Mounted at /content/drive\n"
          ]
        }
      ]
    },
    {
      "cell_type": "code",
      "source": [
        "#guardamos la direccion de la carpeta que vamos a iterar\n",
        "root_folder = \"/content/drive/MyDrive/Google_Maps/reviews-estados\""
      ],
      "metadata": {
        "id": "Y53STUsEHc51"
      },
      "execution_count": null,
      "outputs": []
    },
    {
      "cell_type": "code",
      "source": [
        "#seleccionamos todas las carpetas que hay en la carpeta reviews-estados\n",
        "all_folders = os.listdir(root_folder)"
      ],
      "metadata": {
        "id": "WaEeBc9jHkkx"
      },
      "execution_count": null,
      "outputs": []
    },
    {
      "cell_type": "code",
      "source": [
        "# Carpeta para almacenar los archivos CSV resultantes\n",
        "carpeta_destino = '/content/csvestados'\n",
        "\n",
        "# Crear la carpeta 'csvestados' si no existe\n",
        "if not os.path.exists(carpeta_destino):\n",
        "    os.makedirs(carpeta_destino)\n",
        "#se guardan los nombres de las columnas que deseamos eliminar\n",
        "a = ['resp', 'pics']\n",
        "#recorriendo todas las carpetas una por una se leen los archivos json que contienen\n",
        "for folder in all_folders:\n",
        "    folder_path = os.path.join(root_folder, folder)\n",
        "    json_files = [f for f in os.listdir(folder_path) if f.endswith('.json')]\n",
        "\n",
        "    if json_files:\n",
        "        dataframes = []\n",
        "        for json_file in json_files:\n",
        "            json_path = os.path.join(folder_path, json_file)\n",
        "            df = pd.read_json(json_path, lines=True)\n",
        "            dataframes.append(df)\n",
        "        #despues de la lectura, se hacen las transformaciones necesarias\n",
        "        combined_df = pd.concat(dataframes, ignore_index=True)\n",
        "        combined_df = combined_df.drop(a, axis=1)\n",
        "        combined_df = combined_df.drop_duplicates(keep=\"first\")\n",
        "        combined_df['user_id'] = combined_df['user_id'].apply(Decimal)\n",
        "        combined_df['time'] = combined_df['time'].apply(convertir_a_fecha)\n",
        "\n",
        "        # Nombre del archivo de destino\n",
        "        archivo_destino = os.path.join(carpeta_destino, f\"{folder}.csv\")\n",
        "\n",
        "        # Guardar el DataFrame en la carpeta de destino\n",
        "        combined_df.to_csv(archivo_destino, index=False, escapechar='\\\\')\n",
        "\n",
        "print(f\"Los archivos CSV se han almacenado en la carpeta '{carpeta_destino}'.\")"
      ],
      "metadata": {
        "colab": {
          "base_uri": "https://localhost:8080/"
        },
        "id": "bl_bOwOqscyJ",
        "outputId": "2000c67e-d2b3-474a-8a94-39364d7ec59d"
      },
      "execution_count": null,
      "outputs": [
        {
          "output_type": "stream",
          "name": "stdout",
          "text": [
            "Los archivos CSV se han almacenado en la carpeta '/content/csvestados'.\n"
          ]
        }
      ]
    },
    {
      "cell_type": "code",
      "source": [
        "#guardamos las direcciones de las carpetas donde estan los csv y donde queremos guardar los reportes automaticos\n",
        "csv_folder = \"/content\"\n",
        "reports_folder = \"/content/Reviews_estados\""
      ],
      "metadata": {
        "id": "94tl6MdBbQmL"
      },
      "execution_count": null,
      "outputs": []
    },
    {
      "cell_type": "code",
      "source": [
        "#iteramos por cada archivo csv para que genere un reporte automatico por cada uno\n",
        "for csv_file in os.listdir(csv_folder):\n",
        "    if csv_file.endswith(\".csv\"):\n",
        "        csv_path = os.path.join(csv_folder, csv_file)\n",
        "\n",
        "        # Leer el archivo CSV\n",
        "        df1 = pd.read_csv(csv_path)\n",
        "\n",
        "        # Generar el informe Sweetviz\n",
        "        sweet_report = sv.analyze(df1)\n",
        "\n",
        "        # Guardar el informe como HTML en la carpeta de reportes\n",
        "        report_path = os.path.join(reports_folder, f\"report_{csv_file}.html\")\n",
        "        sweet_report.show_html(report_path)"
      ],
      "metadata": {
        "id": "IYoSoKwDdA9-"
      },
      "execution_count": null,
      "outputs": []
    },
    {
      "cell_type": "code",
      "source": [
        "#comprimimos la carpeta de reportes\n",
        "import shutil\n",
        "\n",
        "shutil.make_archive(\"/content/reportes\", 'zip', \"/content/Reviews_estados\")"
      ],
      "metadata": {
        "colab": {
          "base_uri": "https://localhost:8080/",
          "height": 35
        },
        "id": "R7UORBH1pBAL",
        "outputId": "59804c90-1349-4b80-e060-50053b6efedd"
      },
      "execution_count": null,
      "outputs": [
        {
          "output_type": "execute_result",
          "data": {
            "text/plain": [
              "'/content/reportes.zip'"
            ],
            "application/vnd.google.colaboratory.intrinsic+json": {
              "type": "string"
            }
          },
          "metadata": {},
          "execution_count": 56
        }
      ]
    },
    {
      "cell_type": "code",
      "source": [
        "#comprimimos la carpeta de reportes\n",
        "import shutil\n",
        "\n",
        "shutil.make_archive(\"/content/reportes\", 'zip', \"/content/Reviews_estados\")\n",
        "#descargamos la carpeta comprimida\n",
        "from google.colab import files\n",
        "\n",
        "files.download(\"/content/reportes.zip\")"
      ],
      "metadata": {
        "colab": {
          "base_uri": "https://localhost:8080/",
          "height": 36
        },
        "id": "7EEFPJJJvnT9",
        "outputId": "bccd332f-791d-48dc-c208-90913d6e707d"
      },
      "execution_count": null,
      "outputs": [
        {
          "output_type": "execute_result",
          "data": {
            "text/plain": [
              "'/content/reportes.zip'"
            ],
            "application/vnd.google.colaboratory.intrinsic+json": {
              "type": "string"
            }
          },
          "metadata": {},
          "execution_count": 6
        }
      ]
    },
    {
      "cell_type": "code",
      "source": [
        "#descargamos la carpeta comprimida\n",
        "from google.colab import files\n",
        "\n",
        "files.download(\"/content/reportes.zip\")"
      ],
      "metadata": {
        "id": "9rVE-23RpOCX"
      },
      "execution_count": null,
      "outputs": []
    },
    {
      "cell_type": "code",
      "source": [
        "#guardamos los nombres de las columnas a eliminar\n",
        "b = ['description', 'price', 'MISC']"
      ],
      "metadata": {
        "id": "56DQZLahe2ZG"
      },
      "execution_count": null,
      "outputs": []
    },
    {
      "cell_type": "code",
      "source": [
        "#se clasifican los estados por punto cardinal\n",
        "estados_norte = ['review-Maine','review-District_of_Columbia', 'review-New_Hampshire', 'review-Vermont', 'review-Massachusetts', 'review-Connecticut', 'review-Rhode_Island', 'review-New_York', 'review-Pennsylvania', 'review-New_Jersey']\n",
        "estados_sur = ['review-Delaware', 'review-Maryland', 'review-Virginia', 'review-West_Virginia', 'review-North_Carolina', 'review-South_Carolina', 'review-Georgia', 'review-Florida', 'review-Alabama']\n",
        "estados_sur1 =  ['review-Mississippi', 'review-Louisiana', 'review-Arkansas', 'review-Tennessee', 'review-Kentucky', 'review-Texas', 'review-Oklahoma']\n",
        "estados_oeste = ['review-Hawaii', 'review-Alaska', 'review-Washington', 'review-Oregon', 'review-California', 'review-Nevada', 'review-Idaho', 'review-Utah', 'review-Arizona', 'review-Montana', 'review-Wyoming', 'review-Colorado', 'review-New_Mexico']\n",
        "estados_este = ['review-Michigan', 'review-Ohio', 'review-Indiana', 'review-Illinois', 'review-Wisconsin', 'review-Minnesota', 'review-Iowa', 'review-Missouri', 'review-North_Dakota', 'review-South_Dakota', 'review-Nebraska', 'review-Kansas']"
      ],
      "metadata": {
        "id": "KgTDDkF7lgGl"
      },
      "execution_count": null,
      "outputs": []
    },
    {
      "cell_type": "code",
      "source": [
        "#se guarda el directorio en una variable\n",
        "directorio_drive = '/content/csvestados'"
      ],
      "metadata": {
        "id": "fcpSXhbQoeAu"
      },
      "execution_count": null,
      "outputs": []
    },
    {
      "cell_type": "code",
      "source": [
        "# Creamos un DataFrame vacío para almacenar los datos de los estados del norte\n",
        "df_norte = pd.DataFrame()\n",
        "\n",
        "# Recorremos los archivos CSV en el directorio y cargamos los datos de los estados del norte\n",
        "for estado in estados_norte:\n",
        "    archivo_csv = os.path.join(directorio_drive, f'{estado}.csv')\n",
        "    if os.path.exists(archivo_csv):\n",
        "        df_estado = pd.read_csv(archivo_csv)\n",
        "        df_norte = pd.concat([df_norte, df_estado], ignore_index=True)\n",
        "\n",
        "# Guardamos el DataFrame resultante en un archivo 'usa-norte.csv'\n",
        "df_norte.to_csv(os.path.join(directorio_drive, 'usa-norte.csv'), index=False)\n",
        "\n",
        "print(\"Los estados del norte de USA se han agrupado en 'usa-norte.csv'.\")"
      ],
      "metadata": {
        "colab": {
          "base_uri": "https://localhost:8080/"
        },
        "id": "vYVmIykdoNeW",
        "outputId": "24ed04dc-dbf1-4522-d12b-5102bc2ff36d"
      },
      "execution_count": null,
      "outputs": [
        {
          "output_type": "stream",
          "name": "stdout",
          "text": [
            "Los estados del norte de USA se han agrupado en 'usa-norte.csv'.\n"
          ]
        }
      ]
    },
    {
      "cell_type": "code",
      "source": [
        "# Creamos un DataFrame vacío para almacenar los datos de los estados del sur\n",
        "df_sur = pd.DataFrame()\n",
        "\n",
        "# Recorremos los archivos CSV en el directorio y cargamos los datos de los estados del sur\n",
        "for estado in estados_sur:\n",
        "    archivo_csv = os.path.join(directorio_drive, f'{estado}.csv')\n",
        "    if os.path.exists(archivo_csv):\n",
        "        df_estado = pd.read_csv(archivo_csv)\n",
        "        df_sur = pd.concat([df_sur, df_estado], ignore_index=True)\n",
        "\n",
        "# Guardamos el DataFrame resultante en un archivo 'usa-sur.csv'\n",
        "df_sur.to_csv(os.path.join(directorio_drive, 'usa-sur.csv'), index=False)\n",
        "\n",
        "print(\"Los estados del sur de USA se han agrupado en 'usa-sur.csv'.\")"
      ],
      "metadata": {
        "id": "4ca5ZU0KpNAM",
        "colab": {
          "base_uri": "https://localhost:8080/"
        },
        "outputId": "cad05386-49ce-47cb-8df3-3ff20c23fbc4"
      },
      "execution_count": null,
      "outputs": [
        {
          "output_type": "stream",
          "name": "stdout",
          "text": [
            "Los estados del sur de USA se han agrupado en 'usa-sur.csv'.\n"
          ]
        }
      ]
    },
    {
      "cell_type": "code",
      "source": [
        "# Creamos un DataFrame vacío para almacenar los datos de los estados del sur1\n",
        "df_sur1 = pd.DataFrame()\n",
        "\n",
        "# Recorremos los archivos CSV en el directorio y cargamos los datos de los estados del sur1\n",
        "for estado in estados_sur1:\n",
        "    archivo_csv = os.path.join(directorio_drive, f'{estado}.csv')\n",
        "    if os.path.exists(archivo_csv):\n",
        "        df_estado = pd.read_csv(archivo_csv)\n",
        "        df_sur1 = pd.concat([df_sur1, df_estado], ignore_index=True)\n",
        "\n",
        "# Guardamos el DataFrame resultante en un archivo 'usa-sur1.csv'\n",
        "df_sur1.to_csv(os.path.join(directorio_drive, 'usa-sur1.csv'), index=False)\n",
        "\n",
        "print(\"Los estados del sur1 de USA se han agrupado en 'usa-sur1.csv'.\")"
      ],
      "metadata": {
        "colab": {
          "base_uri": "https://localhost:8080/"
        },
        "outputId": "fed7b4a5-a775-4429-ed9f-baf9b013fc93",
        "id": "eMx7vKhuoobI"
      },
      "execution_count": null,
      "outputs": [
        {
          "output_type": "stream",
          "name": "stdout",
          "text": [
            "Los estados del sur1 de USA se han agrupado en 'usa-sur1.csv'.\n"
          ]
        }
      ]
    },
    {
      "cell_type": "code",
      "source": [
        "# Creamos un DataFrame vacío para almacenar los datos de los estados del este\n",
        "df_este = pd.DataFrame()\n",
        "\n",
        "# Recorremos los archivos CSV en el directorio y cargamos los datos de los estados del este\n",
        "for estado in estados_este:\n",
        "    archivo_csv = os.path.join(directorio_drive, f'{estado}.csv')\n",
        "    if os.path.exists(archivo_csv):\n",
        "        df_estado = pd.read_csv(archivo_csv)\n",
        "        df_este = pd.concat([df_este, df_estado], ignore_index=True)\n",
        "\n",
        "# Guardamos el DataFrame resultante en un archivo 'usa-este.csv'\n",
        "df_este.to_csv(os.path.join(directorio_drive, 'usa-este.csv'), index=False)\n",
        "\n",
        "print(\"Los estados del este de USA se han agrupado en 'usa-este.csv'.\")"
      ],
      "metadata": {
        "colab": {
          "base_uri": "https://localhost:8080/"
        },
        "id": "PB-EXR6PiBhj",
        "outputId": "0d4d52bc-ad73-4da5-dd0c-fe46e8277619"
      },
      "execution_count": null,
      "outputs": [
        {
          "output_type": "stream",
          "name": "stdout",
          "text": [
            "Los estados del este de USA se han agrupado en 'usa-este.csv'.\n"
          ]
        }
      ]
    },
    {
      "cell_type": "code",
      "source": [
        "# Creamos un DataFrame vacío para almacenar los datos de los estados del oeste\n",
        "df_oeste = pd.DataFrame()\n",
        "\n",
        "# Recorremos los archivos CSV en el directorio y cargamos los datos de los estados del oeste\n",
        "for estado in estados_oeste:\n",
        "    archivo_csv = os.path.join(directorio_drive, f'{estado}.csv')\n",
        "    if os.path.exists(archivo_csv):\n",
        "        df_estado = pd.read_csv(archivo_csv)\n",
        "        df_oeste = pd.concat([df_oeste, df_estado], ignore_index=True)\n",
        "\n",
        "# Guardamos el DataFrame resultante en un archivo 'usa-oeste.csv'\n",
        "df_oeste.to_csv(os.path.join(directorio_drive, 'usa-oeste.csv'), index=False)\n",
        "\n",
        "print(\"Los estados del oeste de USA se han agrupado en 'usa-oeste.csv'.\")"
      ],
      "metadata": {
        "colab": {
          "base_uri": "https://localhost:8080/"
        },
        "id": "WMVquVRhsl14",
        "outputId": "631e3ced-1563-4449-c5d5-a7623739699b"
      },
      "execution_count": null,
      "outputs": [
        {
          "output_type": "stream",
          "name": "stdout",
          "text": [
            "Los estados del oeste de USA se han agrupado en 'usa-oeste.csv'.\n"
          ]
        }
      ]
    },
    {
      "cell_type": "code",
      "source": [
        "#despues de obtener los archivos de los puntos cardinales, eliminamos los csv de los estados individuales manualmente\n",
        "#copiamos los archivos csv resultantes a google drive\n",
        "import shutil\n",
        "\n",
        "origen = '/content/csvestados'  # Ruta de la carpeta en Colab\n",
        "destino = '/content/drive/My Drive/'  # Ruta en tu Google Drive\n",
        "\n",
        "shutil.copytree(origen, destino + 'mi_carpeta')"
      ],
      "metadata": {
        "colab": {
          "base_uri": "https://localhost:8080/",
          "height": 35
        },
        "id": "bkqkRXAoah6R",
        "outputId": "eb8b580b-27bc-42f8-c94a-4f0577a027c5"
      },
      "execution_count": null,
      "outputs": [
        {
          "output_type": "execute_result",
          "data": {
            "text/plain": [
              "'/content/drive/My Drive/mi_carpeta'"
            ],
            "application/vnd.google.colaboratory.intrinsic+json": {
              "type": "string"
            }
          },
          "metadata": {},
          "execution_count": 11
        }
      ]
    },
    {
      "cell_type": "markdown",
      "source": [
        "ARCHIVOS METADATA-SITIOS"
      ],
      "metadata": {
        "id": "lkGMBL5LX0mr"
      }
    },
    {
      "cell_type": "code",
      "source": [
        "#en esta columna se presenta un error en el formato de todos los archivos json, se decide guardar en una variable para ser eliminada más adelante\n",
        "a= ['url']"
      ],
      "metadata": {
        "id": "6fLbHVjO4kEs"
      },
      "execution_count": null,
      "outputs": []
    },
    {
      "cell_type": "markdown",
      "source": [
        "LECTURA DE ARCHIVOS Y UNION"
      ],
      "metadata": {
        "id": "qrEf18enYLcT"
      }
    },
    {
      "cell_type": "code",
      "source": [
        "uno=pd.read_json('/content/drive/MyDrive/Google_Maps/metadata-sitios/1.json',lines=True)"
      ],
      "metadata": {
        "id": "Gg3648YX4kXK"
      },
      "execution_count": null,
      "outputs": []
    },
    {
      "cell_type": "code",
      "source": [
        "dos=pd.read_json('/content/drive/MyDrive/Google_Maps/metadata-sitios/2.json',lines=True)"
      ],
      "metadata": {
        "id": "yQzzoHEG4kxC"
      },
      "execution_count": null,
      "outputs": []
    },
    {
      "cell_type": "code",
      "source": [
        "tres=pd.read_json('/content/drive/MyDrive/Google_Maps/metadata-sitios/3.json',lines=True)"
      ],
      "metadata": {
        "id": "bd-XPjEY5ZYR"
      },
      "execution_count": null,
      "outputs": []
    },
    {
      "cell_type": "code",
      "source": [
        "cuatro=pd.read_json('/content/drive/MyDrive/Google_Maps/metadata-sitios/4.json',lines=True)"
      ],
      "metadata": {
        "id": "ouEcX-Ks5Z0J"
      },
      "execution_count": null,
      "outputs": []
    },
    {
      "cell_type": "code",
      "source": [
        "cinco=pd.read_json('/content/drive/MyDrive/Google_Maps/metadata-sitios/5.json',lines=True)"
      ],
      "metadata": {
        "id": "r0hlaO-85aON"
      },
      "execution_count": null,
      "outputs": []
    },
    {
      "cell_type": "code",
      "source": [
        "seis=pd.read_json('/content/drive/MyDrive/Google_Maps/metadata-sitios/6.json',lines=True)"
      ],
      "metadata": {
        "id": "ahDVTlNf5aio"
      },
      "execution_count": null,
      "outputs": []
    },
    {
      "cell_type": "code",
      "source": [
        "siete=pd.read_json('/content/drive/MyDrive/Google_Maps/metadata-sitios/7.json',lines=True)"
      ],
      "metadata": {
        "id": "iBZ-_dxf5a4-"
      },
      "execution_count": null,
      "outputs": []
    },
    {
      "cell_type": "code",
      "source": [
        "ocho=pd.read_json('/content/drive/MyDrive/Google_Maps/metadata-sitios/8.json',lines=True)"
      ],
      "metadata": {
        "id": "T2vhPYmp5bKF"
      },
      "execution_count": null,
      "outputs": []
    },
    {
      "cell_type": "code",
      "source": [
        "#se separan los archivos para mejor control de la ram de la maquina virtual colab\n",
        "file_list = [uno,dos,tres,cuatro,cinco,seis,siete,ocho]"
      ],
      "metadata": {
        "id": "0QqDAguFPFnC"
      },
      "execution_count": null,
      "outputs": []
    },
    {
      "cell_type": "code",
      "source": [
        "# Inicializamos una lista para almacenar los DataFrames individuales\n",
        "data_frames = []"
      ],
      "metadata": {
        "id": "YZ_-iL-HPHjF"
      },
      "execution_count": null,
      "outputs": []
    },
    {
      "cell_type": "code",
      "source": [
        "# Iteramos a través de los archivos JSON y cargamos cada uno en un DataFrame\n",
        "for file in file_list:\n",
        "    data = file\n",
        "    df = pd.DataFrame(data)\n",
        "    df.drop(a, axis=1)\n",
        "    data_frames.append(df)\n",
        "\n",
        "# Combinamos los DataFrames en uno solo utilizando pd.concat\n",
        "combined_data = pd.concat(data_frames, ignore_index=True)"
      ],
      "metadata": {
        "id": "4Ev0_0u59Yoe"
      },
      "execution_count": null,
      "outputs": []
    },
    {
      "cell_type": "code",
      "source": [
        "#exportamos como archivo csv\n",
        "combined_data.to_csv(\"1-8.csv\", index=False)"
      ],
      "metadata": {
        "id": "nJg6F1Et_GXj"
      },
      "execution_count": null,
      "outputs": []
    },
    {
      "cell_type": "code",
      "source": [
        "#leemos los archivos restantes guardandolos en una variable individual siguiendo el mismo proceso\n",
        "nueve=pd.read_json('/content/drive/MyDrive/Google_Maps/metadata-sitios/9.json',lines=True)"
      ],
      "metadata": {
        "id": "npl96onC5biQ"
      },
      "execution_count": null,
      "outputs": []
    },
    {
      "cell_type": "code",
      "source": [
        "diez=pd.read_json('/content/drive/MyDrive/Google_Maps/metadata-sitios/10.json',lines=True)"
      ],
      "metadata": {
        "id": "W0DY8lsf5bv3"
      },
      "execution_count": null,
      "outputs": []
    },
    {
      "cell_type": "code",
      "source": [
        "once=pd.read_json('/content/drive/MyDrive/Google_Maps/metadata-sitios/11.json',lines=True)"
      ],
      "metadata": {
        "id": "ZxaecNFG5cCU"
      },
      "execution_count": null,
      "outputs": []
    },
    {
      "cell_type": "code",
      "source": [
        "file_list_2 = [nueve,diez,once]"
      ],
      "metadata": {
        "id": "vcBeVCzsPI7P"
      },
      "execution_count": null,
      "outputs": []
    },
    {
      "cell_type": "code",
      "source": [
        "# Inicializamos una lista para almacenar los DataFrames individuales\n",
        "data_frames = []"
      ],
      "metadata": {
        "id": "T2-u6kvq9eSG"
      },
      "execution_count": null,
      "outputs": []
    },
    {
      "cell_type": "code",
      "source": [
        "# Iteramos a través de los archivos JSON y carga cada uno en un DataFrame\n",
        "for file in file_list_2:\n",
        "    data = file\n",
        "    df = pd.DataFrame(data)\n",
        "    df.drop(a, axis=1)\n",
        "    data_frames.append(df)\n",
        "\n",
        "# Combinamos los DataFrames en uno solo utilizando pd.concat\n",
        "combined_data1 = pd.concat(data_frames, ignore_index=True)"
      ],
      "metadata": {
        "id": "5Sbki36K9ZLq"
      },
      "execution_count": null,
      "outputs": []
    },
    {
      "cell_type": "code",
      "source": [
        "#exportamos como archivo csv\n",
        "combined_data1.to_csv(\"91011.csv\", index=False)"
      ],
      "metadata": {
        "id": "AZd-cFeT9nYC"
      },
      "execution_count": null,
      "outputs": []
    },
    {
      "cell_type": "markdown",
      "source": [
        "UNION DE ARCHIVOS CSV ANTERIORES Y LIMPIEZA"
      ],
      "metadata": {
        "id": "IpjBoWnxZYoJ"
      }
    },
    {
      "cell_type": "code",
      "source": [
        "#leemos el csv que contiene los archivos json del 9 al 11\n",
        "met1 = pd.read_csv('/content/91011.csv')"
      ],
      "metadata": {
        "id": "L1hNjMFXD6j1"
      },
      "execution_count": null,
      "outputs": []
    },
    {
      "cell_type": "code",
      "source": [
        "#columnas a eliminar\n",
        "col=['description', 'price', 'MISC']"
      ],
      "metadata": {
        "id": "h1yuAhdvEmty"
      },
      "execution_count": null,
      "outputs": []
    },
    {
      "cell_type": "code",
      "source": [
        "#eliminamos columnas\n",
        "met1 = met1.drop(col, axis= 1)"
      ],
      "metadata": {
        "id": "LKkS1s1-E1zY"
      },
      "execution_count": null,
      "outputs": []
    },
    {
      "cell_type": "code",
      "source": [
        "#consultamos tipos de datos por columna\n",
        "met1.info()"
      ],
      "metadata": {
        "colab": {
          "base_uri": "https://localhost:8080/"
        },
        "id": "oCi2qtOqFPqA",
        "outputId": "b9bf79b5-f45e-44a6-dbde-de8af1017f21"
      },
      "execution_count": null,
      "outputs": [
        {
          "output_type": "stream",
          "name": "stdout",
          "text": [
            "<class 'pandas.core.frame.DataFrame'>\n",
            "RangeIndex: 825003 entries, 0 to 825002\n",
            "Data columns (total 12 columns):\n",
            " #   Column            Non-Null Count   Dtype  \n",
            "---  ------            --------------   -----  \n",
            " 0   name              824994 non-null  object \n",
            " 1   address           809470 non-null  object \n",
            " 2   gmap_id           825003 non-null  object \n",
            " 3   latitude          825003 non-null  float64\n",
            " 4   longitude         825003 non-null  float64\n",
            " 5   category          821563 non-null  object \n",
            " 6   avg_rating        825003 non-null  float64\n",
            " 7   num_of_reviews    825003 non-null  int64  \n",
            " 8   hours             642950 non-null  object \n",
            " 9   state             653815 non-null  object \n",
            " 10  relative_results  766544 non-null  object \n",
            " 11  url               825003 non-null  object \n",
            "dtypes: float64(3), int64(1), object(8)\n",
            "memory usage: 75.5+ MB\n"
          ]
        }
      ]
    },
    {
      "cell_type": "code",
      "source": [
        "#revisamos nulos\n",
        "met1.isnull().sum()"
      ],
      "metadata": {
        "colab": {
          "base_uri": "https://localhost:8080/"
        },
        "id": "zq73KZVBFbsg",
        "outputId": "5a8a6e1d-f461-489b-f8f0-c61ce01d0e04"
      },
      "execution_count": null,
      "outputs": [
        {
          "output_type": "execute_result",
          "data": {
            "text/plain": [
              "name                     9\n",
              "address              15533\n",
              "gmap_id                  0\n",
              "latitude                 0\n",
              "longitude                0\n",
              "category              3440\n",
              "avg_rating               0\n",
              "num_of_reviews           0\n",
              "hours               182053\n",
              "state               171188\n",
              "relative_results     58459\n",
              "url                      0\n",
              "dtype: int64"
            ]
          },
          "metadata": {},
          "execution_count": 10
        }
      ]
    },
    {
      "cell_type": "code",
      "source": [
        "#revisamos duplicados\n",
        "met1.duplicated().sum()"
      ],
      "metadata": {
        "colab": {
          "base_uri": "https://localhost:8080/"
        },
        "id": "SEnF4YiAFeag",
        "outputId": "7f45cf16-af0a-40e6-d872-543eba647f20"
      },
      "execution_count": null,
      "outputs": [
        {
          "output_type": "execute_result",
          "data": {
            "text/plain": [
              "0"
            ]
          },
          "metadata": {},
          "execution_count": 13
        }
      ]
    },
    {
      "cell_type": "code",
      "source": [
        "#eliminamos duplicados conservando el primer valor\n",
        "met1 = met1.drop_duplicates(keep=\"first\")"
      ],
      "metadata": {
        "id": "cmfYS0CKFoiY"
      },
      "execution_count": null,
      "outputs": []
    },
    {
      "cell_type": "code",
      "source": [
        "#revisamos cambios\n",
        "met1.head(3)"
      ],
      "metadata": {
        "colab": {
          "base_uri": "https://localhost:8080/",
          "height": 354
        },
        "id": "FMEUqNaeEBfh",
        "outputId": "d539dd1b-26a0-4dfa-9a6c-4b70a065e83e"
      },
      "execution_count": null,
      "outputs": [
        {
          "output_type": "execute_result",
          "data": {
            "text/plain": [
              "                                              name  \\\n",
              "0                                  Porter Pharmacy   \n",
              "1  MemorialCare Breast Center - Irvine Sand Canyon   \n",
              "2                       U-Haul Neighborhood Dealer   \n",
              "\n",
              "                                             address  \\\n",
              "0  Porter Pharmacy, 129 N Second St, Cochran, GA ...   \n",
              "1  MemorialCare Breast Center - Irvine Sand Canyo...   \n",
              "2  U-Haul Neighborhood Dealer, 1690 E 112th Ave, ...   \n",
              "\n",
              "                                 gmap_id   latitude   longitude  \\\n",
              "0  0x88f16e41928ff687:0x883dad4fd048e8f8  32.388300  -83.357100   \n",
              "1  0x80dcdd3b95c7284b:0x23d9b4440c982d37  33.668389 -117.765649   \n",
              "2  0x876c769e600eda1d:0xdf1fffc2e00e1fe1  39.899189 -104.966765   \n",
              "\n",
              "                                            category  avg_rating  \\\n",
              "0                                       ['Pharmacy']         4.9   \n",
              "1                            ['Mammography service']         4.7   \n",
              "2  ['Truck rental agency', 'Trailer rental servic...         3.9   \n",
              "\n",
              "   num_of_reviews                                              hours  \\\n",
              "0              16  [['Friday', '8AM–6PM'], ['Saturday', '8AM–12PM...   \n",
              "1              33  [['Tuesday', '8:30AM–5PM'], ['Wednesday', '8:3...   \n",
              "2              18                                                NaN   \n",
              "\n",
              "                   state                                   relative_results  \\\n",
              "0      Open ⋅ Closes 6PM  ['0x88f16e41929435cf:0x5b2532a2885e9ef6', '0x8...   \n",
              "1  Closed ⋅ Opens 8:30AM  ['0x80dcdc4aad8cb91f:0x62bdeb79a44d7633', '0x8...   \n",
              "2                    NaN  ['0x876c75d05d0e1bf3:0x1d2d9897d0dec9cb', '0x8...   \n",
              "\n",
              "                                                 url  \n",
              "0  https://www.google.com/maps/place//data=!4m2!3...  \n",
              "1  https://www.google.com/maps/place//data=!4m2!3...  \n",
              "2  https://www.google.com/maps/place//data=!4m2!3...  "
            ],
            "text/html": [
              "\n",
              "  <div id=\"df-08c59d3b-fb88-489b-bfed-111b9f2d5d73\" class=\"colab-df-container\">\n",
              "    <div>\n",
              "<style scoped>\n",
              "    .dataframe tbody tr th:only-of-type {\n",
              "        vertical-align: middle;\n",
              "    }\n",
              "\n",
              "    .dataframe tbody tr th {\n",
              "        vertical-align: top;\n",
              "    }\n",
              "\n",
              "    .dataframe thead th {\n",
              "        text-align: right;\n",
              "    }\n",
              "</style>\n",
              "<table border=\"1\" class=\"dataframe\">\n",
              "  <thead>\n",
              "    <tr style=\"text-align: right;\">\n",
              "      <th></th>\n",
              "      <th>name</th>\n",
              "      <th>address</th>\n",
              "      <th>gmap_id</th>\n",
              "      <th>latitude</th>\n",
              "      <th>longitude</th>\n",
              "      <th>category</th>\n",
              "      <th>avg_rating</th>\n",
              "      <th>num_of_reviews</th>\n",
              "      <th>hours</th>\n",
              "      <th>state</th>\n",
              "      <th>relative_results</th>\n",
              "      <th>url</th>\n",
              "    </tr>\n",
              "  </thead>\n",
              "  <tbody>\n",
              "    <tr>\n",
              "      <th>0</th>\n",
              "      <td>Porter Pharmacy</td>\n",
              "      <td>Porter Pharmacy, 129 N Second St, Cochran, GA ...</td>\n",
              "      <td>0x88f16e41928ff687:0x883dad4fd048e8f8</td>\n",
              "      <td>32.388300</td>\n",
              "      <td>-83.357100</td>\n",
              "      <td>['Pharmacy']</td>\n",
              "      <td>4.9</td>\n",
              "      <td>16</td>\n",
              "      <td>[['Friday', '8AM–6PM'], ['Saturday', '8AM–12PM...</td>\n",
              "      <td>Open ⋅ Closes 6PM</td>\n",
              "      <td>['0x88f16e41929435cf:0x5b2532a2885e9ef6', '0x8...</td>\n",
              "      <td>https://www.google.com/maps/place//data=!4m2!3...</td>\n",
              "    </tr>\n",
              "    <tr>\n",
              "      <th>1</th>\n",
              "      <td>MemorialCare Breast Center - Irvine Sand Canyon</td>\n",
              "      <td>MemorialCare Breast Center - Irvine Sand Canyo...</td>\n",
              "      <td>0x80dcdd3b95c7284b:0x23d9b4440c982d37</td>\n",
              "      <td>33.668389</td>\n",
              "      <td>-117.765649</td>\n",
              "      <td>['Mammography service']</td>\n",
              "      <td>4.7</td>\n",
              "      <td>33</td>\n",
              "      <td>[['Tuesday', '8:30AM–5PM'], ['Wednesday', '8:3...</td>\n",
              "      <td>Closed ⋅ Opens 8:30AM</td>\n",
              "      <td>['0x80dcdc4aad8cb91f:0x62bdeb79a44d7633', '0x8...</td>\n",
              "      <td>https://www.google.com/maps/place//data=!4m2!3...</td>\n",
              "    </tr>\n",
              "    <tr>\n",
              "      <th>2</th>\n",
              "      <td>U-Haul Neighborhood Dealer</td>\n",
              "      <td>U-Haul Neighborhood Dealer, 1690 E 112th Ave, ...</td>\n",
              "      <td>0x876c769e600eda1d:0xdf1fffc2e00e1fe1</td>\n",
              "      <td>39.899189</td>\n",
              "      <td>-104.966765</td>\n",
              "      <td>['Truck rental agency', 'Trailer rental servic...</td>\n",
              "      <td>3.9</td>\n",
              "      <td>18</td>\n",
              "      <td>NaN</td>\n",
              "      <td>NaN</td>\n",
              "      <td>['0x876c75d05d0e1bf3:0x1d2d9897d0dec9cb', '0x8...</td>\n",
              "      <td>https://www.google.com/maps/place//data=!4m2!3...</td>\n",
              "    </tr>\n",
              "  </tbody>\n",
              "</table>\n",
              "</div>\n",
              "    <div class=\"colab-df-buttons\">\n",
              "\n",
              "  <div class=\"colab-df-container\">\n",
              "    <button class=\"colab-df-convert\" onclick=\"convertToInteractive('df-08c59d3b-fb88-489b-bfed-111b9f2d5d73')\"\n",
              "            title=\"Convert this dataframe to an interactive table.\"\n",
              "            style=\"display:none;\">\n",
              "\n",
              "  <svg xmlns=\"http://www.w3.org/2000/svg\" height=\"24px\" viewBox=\"0 -960 960 960\">\n",
              "    <path d=\"M120-120v-720h720v720H120Zm60-500h600v-160H180v160Zm220 220h160v-160H400v160Zm0 220h160v-160H400v160ZM180-400h160v-160H180v160Zm440 0h160v-160H620v160ZM180-180h160v-160H180v160Zm440 0h160v-160H620v160Z\"/>\n",
              "  </svg>\n",
              "    </button>\n",
              "\n",
              "  <style>\n",
              "    .colab-df-container {\n",
              "      display:flex;\n",
              "      gap: 12px;\n",
              "    }\n",
              "\n",
              "    .colab-df-convert {\n",
              "      background-color: #E8F0FE;\n",
              "      border: none;\n",
              "      border-radius: 50%;\n",
              "      cursor: pointer;\n",
              "      display: none;\n",
              "      fill: #1967D2;\n",
              "      height: 32px;\n",
              "      padding: 0 0 0 0;\n",
              "      width: 32px;\n",
              "    }\n",
              "\n",
              "    .colab-df-convert:hover {\n",
              "      background-color: #E2EBFA;\n",
              "      box-shadow: 0px 1px 2px rgba(60, 64, 67, 0.3), 0px 1px 3px 1px rgba(60, 64, 67, 0.15);\n",
              "      fill: #174EA6;\n",
              "    }\n",
              "\n",
              "    .colab-df-buttons div {\n",
              "      margin-bottom: 4px;\n",
              "    }\n",
              "\n",
              "    [theme=dark] .colab-df-convert {\n",
              "      background-color: #3B4455;\n",
              "      fill: #D2E3FC;\n",
              "    }\n",
              "\n",
              "    [theme=dark] .colab-df-convert:hover {\n",
              "      background-color: #434B5C;\n",
              "      box-shadow: 0px 1px 3px 1px rgba(0, 0, 0, 0.15);\n",
              "      filter: drop-shadow(0px 1px 2px rgba(0, 0, 0, 0.3));\n",
              "      fill: #FFFFFF;\n",
              "    }\n",
              "  </style>\n",
              "\n",
              "    <script>\n",
              "      const buttonEl =\n",
              "        document.querySelector('#df-08c59d3b-fb88-489b-bfed-111b9f2d5d73 button.colab-df-convert');\n",
              "      buttonEl.style.display =\n",
              "        google.colab.kernel.accessAllowed ? 'block' : 'none';\n",
              "\n",
              "      async function convertToInteractive(key) {\n",
              "        const element = document.querySelector('#df-08c59d3b-fb88-489b-bfed-111b9f2d5d73');\n",
              "        const dataTable =\n",
              "          await google.colab.kernel.invokeFunction('convertToInteractive',\n",
              "                                                    [key], {});\n",
              "        if (!dataTable) return;\n",
              "\n",
              "        const docLinkHtml = 'Like what you see? Visit the ' +\n",
              "          '<a target=\"_blank\" href=https://colab.research.google.com/notebooks/data_table.ipynb>data table notebook</a>'\n",
              "          + ' to learn more about interactive tables.';\n",
              "        element.innerHTML = '';\n",
              "        dataTable['output_type'] = 'display_data';\n",
              "        await google.colab.output.renderOutput(dataTable, element);\n",
              "        const docLink = document.createElement('div');\n",
              "        docLink.innerHTML = docLinkHtml;\n",
              "        element.appendChild(docLink);\n",
              "      }\n",
              "    </script>\n",
              "  </div>\n",
              "\n",
              "\n",
              "<div id=\"df-692a5a65-2c16-483a-aaca-a2ba39a0da4e\">\n",
              "  <button class=\"colab-df-quickchart\" onclick=\"quickchart('df-692a5a65-2c16-483a-aaca-a2ba39a0da4e')\"\n",
              "            title=\"Suggest charts\"\n",
              "            style=\"display:none;\">\n",
              "\n",
              "<svg xmlns=\"http://www.w3.org/2000/svg\" height=\"24px\"viewBox=\"0 0 24 24\"\n",
              "     width=\"24px\">\n",
              "    <g>\n",
              "        <path d=\"M19 3H5c-1.1 0-2 .9-2 2v14c0 1.1.9 2 2 2h14c1.1 0 2-.9 2-2V5c0-1.1-.9-2-2-2zM9 17H7v-7h2v7zm4 0h-2V7h2v10zm4 0h-2v-4h2v4z\"/>\n",
              "    </g>\n",
              "</svg>\n",
              "  </button>\n",
              "\n",
              "<style>\n",
              "  .colab-df-quickchart {\n",
              "      --bg-color: #E8F0FE;\n",
              "      --fill-color: #1967D2;\n",
              "      --hover-bg-color: #E2EBFA;\n",
              "      --hover-fill-color: #174EA6;\n",
              "      --disabled-fill-color: #AAA;\n",
              "      --disabled-bg-color: #DDD;\n",
              "  }\n",
              "\n",
              "  [theme=dark] .colab-df-quickchart {\n",
              "      --bg-color: #3B4455;\n",
              "      --fill-color: #D2E3FC;\n",
              "      --hover-bg-color: #434B5C;\n",
              "      --hover-fill-color: #FFFFFF;\n",
              "      --disabled-bg-color: #3B4455;\n",
              "      --disabled-fill-color: #666;\n",
              "  }\n",
              "\n",
              "  .colab-df-quickchart {\n",
              "    background-color: var(--bg-color);\n",
              "    border: none;\n",
              "    border-radius: 50%;\n",
              "    cursor: pointer;\n",
              "    display: none;\n",
              "    fill: var(--fill-color);\n",
              "    height: 32px;\n",
              "    padding: 0;\n",
              "    width: 32px;\n",
              "  }\n",
              "\n",
              "  .colab-df-quickchart:hover {\n",
              "    background-color: var(--hover-bg-color);\n",
              "    box-shadow: 0 1px 2px rgba(60, 64, 67, 0.3), 0 1px 3px 1px rgba(60, 64, 67, 0.15);\n",
              "    fill: var(--button-hover-fill-color);\n",
              "  }\n",
              "\n",
              "  .colab-df-quickchart-complete:disabled,\n",
              "  .colab-df-quickchart-complete:disabled:hover {\n",
              "    background-color: var(--disabled-bg-color);\n",
              "    fill: var(--disabled-fill-color);\n",
              "    box-shadow: none;\n",
              "  }\n",
              "\n",
              "  .colab-df-spinner {\n",
              "    border: 2px solid var(--fill-color);\n",
              "    border-color: transparent;\n",
              "    border-bottom-color: var(--fill-color);\n",
              "    animation:\n",
              "      spin 1s steps(1) infinite;\n",
              "  }\n",
              "\n",
              "  @keyframes spin {\n",
              "    0% {\n",
              "      border-color: transparent;\n",
              "      border-bottom-color: var(--fill-color);\n",
              "      border-left-color: var(--fill-color);\n",
              "    }\n",
              "    20% {\n",
              "      border-color: transparent;\n",
              "      border-left-color: var(--fill-color);\n",
              "      border-top-color: var(--fill-color);\n",
              "    }\n",
              "    30% {\n",
              "      border-color: transparent;\n",
              "      border-left-color: var(--fill-color);\n",
              "      border-top-color: var(--fill-color);\n",
              "      border-right-color: var(--fill-color);\n",
              "    }\n",
              "    40% {\n",
              "      border-color: transparent;\n",
              "      border-right-color: var(--fill-color);\n",
              "      border-top-color: var(--fill-color);\n",
              "    }\n",
              "    60% {\n",
              "      border-color: transparent;\n",
              "      border-right-color: var(--fill-color);\n",
              "    }\n",
              "    80% {\n",
              "      border-color: transparent;\n",
              "      border-right-color: var(--fill-color);\n",
              "      border-bottom-color: var(--fill-color);\n",
              "    }\n",
              "    90% {\n",
              "      border-color: transparent;\n",
              "      border-bottom-color: var(--fill-color);\n",
              "    }\n",
              "  }\n",
              "</style>\n",
              "\n",
              "  <script>\n",
              "    async function quickchart(key) {\n",
              "      const quickchartButtonEl =\n",
              "        document.querySelector('#' + key + ' button');\n",
              "      quickchartButtonEl.disabled = true;  // To prevent multiple clicks.\n",
              "      quickchartButtonEl.classList.add('colab-df-spinner');\n",
              "      try {\n",
              "        const charts = await google.colab.kernel.invokeFunction(\n",
              "            'suggestCharts', [key], {});\n",
              "      } catch (error) {\n",
              "        console.error('Error during call to suggestCharts:', error);\n",
              "      }\n",
              "      quickchartButtonEl.classList.remove('colab-df-spinner');\n",
              "      quickchartButtonEl.classList.add('colab-df-quickchart-complete');\n",
              "    }\n",
              "    (() => {\n",
              "      let quickchartButtonEl =\n",
              "        document.querySelector('#df-692a5a65-2c16-483a-aaca-a2ba39a0da4e button');\n",
              "      quickchartButtonEl.style.display =\n",
              "        google.colab.kernel.accessAllowed ? 'block' : 'none';\n",
              "    })();\n",
              "  </script>\n",
              "</div>\n",
              "    </div>\n",
              "  </div>\n"
            ]
          },
          "metadata": {},
          "execution_count": 7
        }
      ]
    },
    {
      "cell_type": "code",
      "source": [
        "#leemos csv con los archivos json del 1 al 8\n",
        "met = pd.read_csv('/content/1-8.csv')"
      ],
      "metadata": {
        "id": "MXByX44CGiMp"
      },
      "execution_count": null,
      "outputs": []
    },
    {
      "cell_type": "code",
      "source": [
        "#eliminamos columnas anteriormente guardadas en una variable\n",
        "met = met.drop(col, axis= 1)"
      ],
      "metadata": {
        "id": "B8MrG-l-GN0N"
      },
      "execution_count": null,
      "outputs": []
    },
    {
      "cell_type": "code",
      "source": [
        "#consultamos nulos\n",
        "met.isnull().sum()"
      ],
      "metadata": {
        "colab": {
          "base_uri": "https://localhost:8080/"
        },
        "id": "iCl_MFP3GmvA",
        "outputId": "dfeb1783-8a95-4458-b440-d16ae8715a40"
      },
      "execution_count": null,
      "outputs": [
        {
          "output_type": "execute_result",
          "data": {
            "text/plain": [
              "name                    41\n",
              "address              64978\n",
              "gmap_id                  0\n",
              "latitude                 0\n",
              "longitude                0\n",
              "category             13979\n",
              "avg_rating               0\n",
              "num_of_reviews           0\n",
              "hours               605352\n",
              "state               575267\n",
              "relative_results    236599\n",
              "url                      0\n",
              "dtype: int64"
            ]
          },
          "metadata": {},
          "execution_count": 24
        }
      ]
    },
    {
      "cell_type": "code",
      "source": [
        "#consultamos duplicados\n",
        "met.duplicated().sum()"
      ],
      "metadata": {
        "colab": {
          "base_uri": "https://localhost:8080/"
        },
        "id": "GUgF7vSCGs22",
        "outputId": "4d366c88-0945-44f0-ca42-531ee7f12b05"
      },
      "execution_count": null,
      "outputs": [
        {
          "output_type": "execute_result",
          "data": {
            "text/plain": [
              "26580"
            ]
          },
          "metadata": {},
          "execution_count": 25
        }
      ]
    },
    {
      "cell_type": "code",
      "source": [
        "#eliminamos duplicados\n",
        "met = met.drop_duplicates(keep=\"first\")"
      ],
      "metadata": {
        "id": "f6gq8ewAG4Z4"
      },
      "execution_count": null,
      "outputs": []
    },
    {
      "cell_type": "code",
      "source": [
        "#revisamos cambios\n",
        "met.head(3)"
      ],
      "metadata": {
        "colab": {
          "base_uri": "https://localhost:8080/",
          "height": 476
        },
        "id": "GItuQdTFGws9",
        "outputId": "6a8970b4-c3d8-4947-e230-a07236ebcf54"
      },
      "execution_count": null,
      "outputs": [
        {
          "output_type": "execute_result",
          "data": {
            "text/plain": [
              "              name                                            address  \\\n",
              "0  Porter Pharmacy  Porter Pharmacy, 129 N Second St, Cochran, GA ...   \n",
              "1     City Textile  City Textile, 3001 E Pico Blvd, Los Angeles, C...   \n",
              "2     San Soo Dang  San Soo Dang, 761 S Vermont Ave, Los Angeles, ...   \n",
              "\n",
              "                                 gmap_id   latitude  longitude  \\\n",
              "0  0x88f16e41928ff687:0x883dad4fd048e8f8  32.388300  -83.35710   \n",
              "1  0x80c2c98c0e3c16fd:0x29ec8a728764fdf9  34.018891 -118.21529   \n",
              "2  0x80c2c778e3b73d33:0xbdc58662a4a97d49  34.058092 -118.29213   \n",
              "\n",
              "                category  avg_rating  num_of_reviews  \\\n",
              "0           ['Pharmacy']         4.9              16   \n",
              "1   ['Textile exporter']         4.5               6   \n",
              "2  ['Korean restaurant']         4.4              18   \n",
              "\n",
              "                                               hours              state  \\\n",
              "0  [['Friday', '8AM–6PM'], ['Saturday', '8AM–12PM...  Open ⋅ Closes 6PM   \n",
              "1                                                NaN           Open now   \n",
              "2  [['Thursday', '6:30AM–6PM'], ['Friday', '6:30A...  Open ⋅ Closes 6PM   \n",
              "\n",
              "                                    relative_results  \\\n",
              "0  ['0x88f16e41929435cf:0x5b2532a2885e9ef6', '0x8...   \n",
              "1  ['0x80c2c624136ea88b:0xb0315367ed448771', '0x8...   \n",
              "2  ['0x80c2c78249aba68f:0x35bf16ce61be751d', '0x8...   \n",
              "\n",
              "                                                 url  \n",
              "0  https://www.google.com/maps/place//data=!4m2!3...  \n",
              "1  https://www.google.com/maps/place//data=!4m2!3...  \n",
              "2  https://www.google.com/maps/place//data=!4m2!3...  "
            ],
            "text/html": [
              "\n",
              "  <div id=\"df-39577902-5dda-45b6-b26d-087ec9f6002a\" class=\"colab-df-container\">\n",
              "    <div>\n",
              "<style scoped>\n",
              "    .dataframe tbody tr th:only-of-type {\n",
              "        vertical-align: middle;\n",
              "    }\n",
              "\n",
              "    .dataframe tbody tr th {\n",
              "        vertical-align: top;\n",
              "    }\n",
              "\n",
              "    .dataframe thead th {\n",
              "        text-align: right;\n",
              "    }\n",
              "</style>\n",
              "<table border=\"1\" class=\"dataframe\">\n",
              "  <thead>\n",
              "    <tr style=\"text-align: right;\">\n",
              "      <th></th>\n",
              "      <th>name</th>\n",
              "      <th>address</th>\n",
              "      <th>gmap_id</th>\n",
              "      <th>latitude</th>\n",
              "      <th>longitude</th>\n",
              "      <th>category</th>\n",
              "      <th>avg_rating</th>\n",
              "      <th>num_of_reviews</th>\n",
              "      <th>hours</th>\n",
              "      <th>state</th>\n",
              "      <th>relative_results</th>\n",
              "      <th>url</th>\n",
              "    </tr>\n",
              "  </thead>\n",
              "  <tbody>\n",
              "    <tr>\n",
              "      <th>0</th>\n",
              "      <td>Porter Pharmacy</td>\n",
              "      <td>Porter Pharmacy, 129 N Second St, Cochran, GA ...</td>\n",
              "      <td>0x88f16e41928ff687:0x883dad4fd048e8f8</td>\n",
              "      <td>32.388300</td>\n",
              "      <td>-83.35710</td>\n",
              "      <td>['Pharmacy']</td>\n",
              "      <td>4.9</td>\n",
              "      <td>16</td>\n",
              "      <td>[['Friday', '8AM–6PM'], ['Saturday', '8AM–12PM...</td>\n",
              "      <td>Open ⋅ Closes 6PM</td>\n",
              "      <td>['0x88f16e41929435cf:0x5b2532a2885e9ef6', '0x8...</td>\n",
              "      <td>https://www.google.com/maps/place//data=!4m2!3...</td>\n",
              "    </tr>\n",
              "    <tr>\n",
              "      <th>1</th>\n",
              "      <td>City Textile</td>\n",
              "      <td>City Textile, 3001 E Pico Blvd, Los Angeles, C...</td>\n",
              "      <td>0x80c2c98c0e3c16fd:0x29ec8a728764fdf9</td>\n",
              "      <td>34.018891</td>\n",
              "      <td>-118.21529</td>\n",
              "      <td>['Textile exporter']</td>\n",
              "      <td>4.5</td>\n",
              "      <td>6</td>\n",
              "      <td>NaN</td>\n",
              "      <td>Open now</td>\n",
              "      <td>['0x80c2c624136ea88b:0xb0315367ed448771', '0x8...</td>\n",
              "      <td>https://www.google.com/maps/place//data=!4m2!3...</td>\n",
              "    </tr>\n",
              "    <tr>\n",
              "      <th>2</th>\n",
              "      <td>San Soo Dang</td>\n",
              "      <td>San Soo Dang, 761 S Vermont Ave, Los Angeles, ...</td>\n",
              "      <td>0x80c2c778e3b73d33:0xbdc58662a4a97d49</td>\n",
              "      <td>34.058092</td>\n",
              "      <td>-118.29213</td>\n",
              "      <td>['Korean restaurant']</td>\n",
              "      <td>4.4</td>\n",
              "      <td>18</td>\n",
              "      <td>[['Thursday', '6:30AM–6PM'], ['Friday', '6:30A...</td>\n",
              "      <td>Open ⋅ Closes 6PM</td>\n",
              "      <td>['0x80c2c78249aba68f:0x35bf16ce61be751d', '0x8...</td>\n",
              "      <td>https://www.google.com/maps/place//data=!4m2!3...</td>\n",
              "    </tr>\n",
              "  </tbody>\n",
              "</table>\n",
              "</div>\n",
              "    <div class=\"colab-df-buttons\">\n",
              "\n",
              "  <div class=\"colab-df-container\">\n",
              "    <button class=\"colab-df-convert\" onclick=\"convertToInteractive('df-39577902-5dda-45b6-b26d-087ec9f6002a')\"\n",
              "            title=\"Convert this dataframe to an interactive table.\"\n",
              "            style=\"display:none;\">\n",
              "\n",
              "  <svg xmlns=\"http://www.w3.org/2000/svg\" height=\"24px\" viewBox=\"0 -960 960 960\">\n",
              "    <path d=\"M120-120v-720h720v720H120Zm60-500h600v-160H180v160Zm220 220h160v-160H400v160Zm0 220h160v-160H400v160ZM180-400h160v-160H180v160Zm440 0h160v-160H620v160ZM180-180h160v-160H180v160Zm440 0h160v-160H620v160Z\"/>\n",
              "  </svg>\n",
              "    </button>\n",
              "\n",
              "  <style>\n",
              "    .colab-df-container {\n",
              "      display:flex;\n",
              "      gap: 12px;\n",
              "    }\n",
              "\n",
              "    .colab-df-convert {\n",
              "      background-color: #E8F0FE;\n",
              "      border: none;\n",
              "      border-radius: 50%;\n",
              "      cursor: pointer;\n",
              "      display: none;\n",
              "      fill: #1967D2;\n",
              "      height: 32px;\n",
              "      padding: 0 0 0 0;\n",
              "      width: 32px;\n",
              "    }\n",
              "\n",
              "    .colab-df-convert:hover {\n",
              "      background-color: #E2EBFA;\n",
              "      box-shadow: 0px 1px 2px rgba(60, 64, 67, 0.3), 0px 1px 3px 1px rgba(60, 64, 67, 0.15);\n",
              "      fill: #174EA6;\n",
              "    }\n",
              "\n",
              "    .colab-df-buttons div {\n",
              "      margin-bottom: 4px;\n",
              "    }\n",
              "\n",
              "    [theme=dark] .colab-df-convert {\n",
              "      background-color: #3B4455;\n",
              "      fill: #D2E3FC;\n",
              "    }\n",
              "\n",
              "    [theme=dark] .colab-df-convert:hover {\n",
              "      background-color: #434B5C;\n",
              "      box-shadow: 0px 1px 3px 1px rgba(0, 0, 0, 0.15);\n",
              "      filter: drop-shadow(0px 1px 2px rgba(0, 0, 0, 0.3));\n",
              "      fill: #FFFFFF;\n",
              "    }\n",
              "  </style>\n",
              "\n",
              "    <script>\n",
              "      const buttonEl =\n",
              "        document.querySelector('#df-39577902-5dda-45b6-b26d-087ec9f6002a button.colab-df-convert');\n",
              "      buttonEl.style.display =\n",
              "        google.colab.kernel.accessAllowed ? 'block' : 'none';\n",
              "\n",
              "      async function convertToInteractive(key) {\n",
              "        const element = document.querySelector('#df-39577902-5dda-45b6-b26d-087ec9f6002a');\n",
              "        const dataTable =\n",
              "          await google.colab.kernel.invokeFunction('convertToInteractive',\n",
              "                                                    [key], {});\n",
              "        if (!dataTable) return;\n",
              "\n",
              "        const docLinkHtml = 'Like what you see? Visit the ' +\n",
              "          '<a target=\"_blank\" href=https://colab.research.google.com/notebooks/data_table.ipynb>data table notebook</a>'\n",
              "          + ' to learn more about interactive tables.';\n",
              "        element.innerHTML = '';\n",
              "        dataTable['output_type'] = 'display_data';\n",
              "        await google.colab.output.renderOutput(dataTable, element);\n",
              "        const docLink = document.createElement('div');\n",
              "        docLink.innerHTML = docLinkHtml;\n",
              "        element.appendChild(docLink);\n",
              "      }\n",
              "    </script>\n",
              "  </div>\n",
              "\n",
              "\n",
              "<div id=\"df-5d8dc29e-f931-49d3-a872-b9dbb9295a57\">\n",
              "  <button class=\"colab-df-quickchart\" onclick=\"quickchart('df-5d8dc29e-f931-49d3-a872-b9dbb9295a57')\"\n",
              "            title=\"Suggest charts\"\n",
              "            style=\"display:none;\">\n",
              "\n",
              "<svg xmlns=\"http://www.w3.org/2000/svg\" height=\"24px\"viewBox=\"0 0 24 24\"\n",
              "     width=\"24px\">\n",
              "    <g>\n",
              "        <path d=\"M19 3H5c-1.1 0-2 .9-2 2v14c0 1.1.9 2 2 2h14c1.1 0 2-.9 2-2V5c0-1.1-.9-2-2-2zM9 17H7v-7h2v7zm4 0h-2V7h2v10zm4 0h-2v-4h2v4z\"/>\n",
              "    </g>\n",
              "</svg>\n",
              "  </button>\n",
              "\n",
              "<style>\n",
              "  .colab-df-quickchart {\n",
              "      --bg-color: #E8F0FE;\n",
              "      --fill-color: #1967D2;\n",
              "      --hover-bg-color: #E2EBFA;\n",
              "      --hover-fill-color: #174EA6;\n",
              "      --disabled-fill-color: #AAA;\n",
              "      --disabled-bg-color: #DDD;\n",
              "  }\n",
              "\n",
              "  [theme=dark] .colab-df-quickchart {\n",
              "      --bg-color: #3B4455;\n",
              "      --fill-color: #D2E3FC;\n",
              "      --hover-bg-color: #434B5C;\n",
              "      --hover-fill-color: #FFFFFF;\n",
              "      --disabled-bg-color: #3B4455;\n",
              "      --disabled-fill-color: #666;\n",
              "  }\n",
              "\n",
              "  .colab-df-quickchart {\n",
              "    background-color: var(--bg-color);\n",
              "    border: none;\n",
              "    border-radius: 50%;\n",
              "    cursor: pointer;\n",
              "    display: none;\n",
              "    fill: var(--fill-color);\n",
              "    height: 32px;\n",
              "    padding: 0;\n",
              "    width: 32px;\n",
              "  }\n",
              "\n",
              "  .colab-df-quickchart:hover {\n",
              "    background-color: var(--hover-bg-color);\n",
              "    box-shadow: 0 1px 2px rgba(60, 64, 67, 0.3), 0 1px 3px 1px rgba(60, 64, 67, 0.15);\n",
              "    fill: var(--button-hover-fill-color);\n",
              "  }\n",
              "\n",
              "  .colab-df-quickchart-complete:disabled,\n",
              "  .colab-df-quickchart-complete:disabled:hover {\n",
              "    background-color: var(--disabled-bg-color);\n",
              "    fill: var(--disabled-fill-color);\n",
              "    box-shadow: none;\n",
              "  }\n",
              "\n",
              "  .colab-df-spinner {\n",
              "    border: 2px solid var(--fill-color);\n",
              "    border-color: transparent;\n",
              "    border-bottom-color: var(--fill-color);\n",
              "    animation:\n",
              "      spin 1s steps(1) infinite;\n",
              "  }\n",
              "\n",
              "  @keyframes spin {\n",
              "    0% {\n",
              "      border-color: transparent;\n",
              "      border-bottom-color: var(--fill-color);\n",
              "      border-left-color: var(--fill-color);\n",
              "    }\n",
              "    20% {\n",
              "      border-color: transparent;\n",
              "      border-left-color: var(--fill-color);\n",
              "      border-top-color: var(--fill-color);\n",
              "    }\n",
              "    30% {\n",
              "      border-color: transparent;\n",
              "      border-left-color: var(--fill-color);\n",
              "      border-top-color: var(--fill-color);\n",
              "      border-right-color: var(--fill-color);\n",
              "    }\n",
              "    40% {\n",
              "      border-color: transparent;\n",
              "      border-right-color: var(--fill-color);\n",
              "      border-top-color: var(--fill-color);\n",
              "    }\n",
              "    60% {\n",
              "      border-color: transparent;\n",
              "      border-right-color: var(--fill-color);\n",
              "    }\n",
              "    80% {\n",
              "      border-color: transparent;\n",
              "      border-right-color: var(--fill-color);\n",
              "      border-bottom-color: var(--fill-color);\n",
              "    }\n",
              "    90% {\n",
              "      border-color: transparent;\n",
              "      border-bottom-color: var(--fill-color);\n",
              "    }\n",
              "  }\n",
              "</style>\n",
              "\n",
              "  <script>\n",
              "    async function quickchart(key) {\n",
              "      const quickchartButtonEl =\n",
              "        document.querySelector('#' + key + ' button');\n",
              "      quickchartButtonEl.disabled = true;  // To prevent multiple clicks.\n",
              "      quickchartButtonEl.classList.add('colab-df-spinner');\n",
              "      try {\n",
              "        const charts = await google.colab.kernel.invokeFunction(\n",
              "            'suggestCharts', [key], {});\n",
              "      } catch (error) {\n",
              "        console.error('Error during call to suggestCharts:', error);\n",
              "      }\n",
              "      quickchartButtonEl.classList.remove('colab-df-spinner');\n",
              "      quickchartButtonEl.classList.add('colab-df-quickchart-complete');\n",
              "    }\n",
              "    (() => {\n",
              "      let quickchartButtonEl =\n",
              "        document.querySelector('#df-5d8dc29e-f931-49d3-a872-b9dbb9295a57 button');\n",
              "      quickchartButtonEl.style.display =\n",
              "        google.colab.kernel.accessAllowed ? 'block' : 'none';\n",
              "    })();\n",
              "  </script>\n",
              "</div>\n",
              "    </div>\n",
              "  </div>\n"
            ]
          },
          "metadata": {},
          "execution_count": 21
        }
      ]
    },
    {
      "cell_type": "code",
      "source": [
        "# Concatenamos los DataFrames\n",
        "concatenated_df = pd.concat([met, met1], ignore_index=True)  # ignore_index=True reinicia los índices\n"
      ],
      "metadata": {
        "id": "y0TKpztuHTxt"
      },
      "execution_count": null,
      "outputs": []
    },
    {
      "cell_type": "code",
      "source": [
        "#consultamos cantidad de registros\n",
        "concatenated_df"
      ],
      "metadata": {
        "colab": {
          "base_uri": "https://localhost:8080/",
          "height": 1000
        },
        "id": "xdPBmWlnIBaQ",
        "outputId": "0e1b35b6-3e03-4230-bc2a-4be141ac01a0"
      },
      "execution_count": null,
      "outputs": [
        {
          "output_type": "execute_result",
          "data": {
            "text/plain": [
              "                                   name  \\\n",
              "0                       Porter Pharmacy   \n",
              "1                          City Textile   \n",
              "2                          San Soo Dang   \n",
              "3                          Nova Fabrics   \n",
              "4                      Nobel Textile Co   \n",
              "...                                 ...   \n",
              "2998424                        Steak 48   \n",
              "2998425   Jack Mcnerney Chevrolet, Inc.   \n",
              "2998426  Central Ny Spay Neuter Assista   \n",
              "2998427                   Ok Feed Store   \n",
              "2998428              Crestview Crossing   \n",
              "\n",
              "                                                   address  \\\n",
              "0        Porter Pharmacy, 129 N Second St, Cochran, GA ...   \n",
              "1        City Textile, 3001 E Pico Blvd, Los Angeles, C...   \n",
              "2        San Soo Dang, 761 S Vermont Ave, Los Angeles, ...   \n",
              "3        Nova Fabrics, 2200 E 11th St, Los Angeles, CA ...   \n",
              "4        Nobel Textile Co, 719 E 9th St, Los Angeles, C...   \n",
              "...                                                    ...   \n",
              "2998424   Steak 48, 260 S Broad St, Philadelphia, PA 19102   \n",
              "2998425  Jack Mcnerney Chevrolet, Inc., 363 NY-281, Tul...   \n",
              "2998426  Central Ny Spay Neuter Assista, 17 Salisbury S...   \n",
              "2998427  Ok Feed Store, 16300 SW 296th St, Homestead, F...   \n",
              "2998428              Crestview Crossing, Newberg, OR 97132   \n",
              "\n",
              "                                       gmap_id   latitude   longitude  \\\n",
              "0        0x88f16e41928ff687:0x883dad4fd048e8f8  32.388300  -83.357100   \n",
              "1        0x80c2c98c0e3c16fd:0x29ec8a728764fdf9  34.018891 -118.215290   \n",
              "2        0x80c2c778e3b73d33:0xbdc58662a4a97d49  34.058092 -118.292130   \n",
              "3         0x80c2c89923b27a41:0x32041559418d447  34.023669 -118.232930   \n",
              "4        0x80c2c632f933b073:0xc31785961fe826a6  34.036694 -118.249421   \n",
              "...                                        ...        ...         ...   \n",
              "2998424  0x89c6c74f43a49b55:0x6be6995921c58b12  39.947254  -75.164953   \n",
              "2998425  0x89da1787d3fdc4a5:0xce92ea6e3cd4d1cc  42.788636  -76.122120   \n",
              "2998426  0x89da6b9ce832726f:0xbd0d3630f1e3b42e  42.603831  -76.165286   \n",
              "2998427  0x88d9e872a9e39f3d:0x5de29f50507e5d73  25.491641  -80.456076   \n",
              "2998428  0x54956b3944b1654d:0x7797cead9a485c22  45.310254 -122.935500   \n",
              "\n",
              "                                                  category  avg_rating  \\\n",
              "0                                             ['Pharmacy']         4.9   \n",
              "1                                     ['Textile exporter']         4.5   \n",
              "2                                    ['Korean restaurant']         4.4   \n",
              "3                                         ['Fabric store']         3.3   \n",
              "4                                         ['Fabric store']         4.3   \n",
              "...                                                    ...         ...   \n",
              "2998424  ['Steak house', 'Fine dining restaurant', 'Sea...         4.6   \n",
              "2998425                               ['Chevrolet dealer']         4.4   \n",
              "2998426                                   ['Veterinarian']         4.3   \n",
              "2998427                              ['Animal feed store']         4.9   \n",
              "2998428                                        ['Lodging']         5.0   \n",
              "\n",
              "         num_of_reviews                                              hours  \\\n",
              "0                    16  [['Friday', '8AM–6PM'], ['Saturday', '8AM–12PM...   \n",
              "1                     6                                                NaN   \n",
              "2                    18  [['Thursday', '6:30AM–6PM'], ['Friday', '6:30A...   \n",
              "3                     6  [['Thursday', '9AM–5PM'], ['Friday', '9AM–5PM'...   \n",
              "4                     7  [['Thursday', '9AM–5PM'], ['Friday', '9AM–5PM'...   \n",
              "...                 ...                                                ...   \n",
              "2998424             308  [['Monday', '4–10PM'], ['Tuesday', '4–10PM'], ...   \n",
              "2998425             143  [['Monday', '8:30AM–7PM'], ['Tuesday', '8:30AM...   \n",
              "2998426              88                                                NaN   \n",
              "2998427              13  [['Monday', '9AM–6PM'], ['Tuesday', '9AM–6PM']...   \n",
              "2998428               1                                                NaN   \n",
              "\n",
              "                      state  \\\n",
              "0         Open ⋅ Closes 6PM   \n",
              "1                  Open now   \n",
              "2         Open ⋅ Closes 6PM   \n",
              "3         Open ⋅ Closes 5PM   \n",
              "4         Open ⋅ Closes 5PM   \n",
              "...                     ...   \n",
              "2998424  Closed ⋅ Opens 4PM   \n",
              "2998425   Open ⋅ Closes 7PM   \n",
              "2998426            Open now   \n",
              "2998427   Open ⋅ Closes 6PM   \n",
              "2998428                 NaN   \n",
              "\n",
              "                                          relative_results  \\\n",
              "0        ['0x88f16e41929435cf:0x5b2532a2885e9ef6', '0x8...   \n",
              "1        ['0x80c2c624136ea88b:0xb0315367ed448771', '0x8...   \n",
              "2        ['0x80c2c78249aba68f:0x35bf16ce61be751d', '0x8...   \n",
              "3        ['0x80c2c8811477253f:0x23a8a492df1918f7', '0x8...   \n",
              "4        ['0x80c2c62c496083d1:0xdefa11317fe870a1', '0x8...   \n",
              "...                                                    ...   \n",
              "2998424  ['0x89c6c7af1a55f4f9:0x589bb93addf7fd95', '0x8...   \n",
              "2998425  ['0x89d98d228469e435:0x3fdc4fa72594151', '0x89...   \n",
              "2998426  ['0x89da6c67512700cb:0x69892b3a9a648efe', '0x8...   \n",
              "2998427  ['0x88d9e86cb955da7b:0xeda838b28926c524', '0x8...   \n",
              "2998428                                                NaN   \n",
              "\n",
              "                                                       url  \n",
              "0        https://www.google.com/maps/place//data=!4m2!3...  \n",
              "1        https://www.google.com/maps/place//data=!4m2!3...  \n",
              "2        https://www.google.com/maps/place//data=!4m2!3...  \n",
              "3        https://www.google.com/maps/place//data=!4m2!3...  \n",
              "4        https://www.google.com/maps/place//data=!4m2!3...  \n",
              "...                                                    ...  \n",
              "2998424  https://www.google.com/maps/place//data=!4m2!3...  \n",
              "2998425  https://www.google.com/maps/place//data=!4m2!3...  \n",
              "2998426  https://www.google.com/maps/place//data=!4m2!3...  \n",
              "2998427  https://www.google.com/maps/place//data=!4m2!3...  \n",
              "2998428  https://www.google.com/maps/place//data=!4m2!3...  \n",
              "\n",
              "[2998429 rows x 12 columns]"
            ],
            "text/html": [
              "\n",
              "  <div id=\"df-b51f2bae-3693-416f-a826-f53a96073390\" class=\"colab-df-container\">\n",
              "    <div>\n",
              "<style scoped>\n",
              "    .dataframe tbody tr th:only-of-type {\n",
              "        vertical-align: middle;\n",
              "    }\n",
              "\n",
              "    .dataframe tbody tr th {\n",
              "        vertical-align: top;\n",
              "    }\n",
              "\n",
              "    .dataframe thead th {\n",
              "        text-align: right;\n",
              "    }\n",
              "</style>\n",
              "<table border=\"1\" class=\"dataframe\">\n",
              "  <thead>\n",
              "    <tr style=\"text-align: right;\">\n",
              "      <th></th>\n",
              "      <th>name</th>\n",
              "      <th>address</th>\n",
              "      <th>gmap_id</th>\n",
              "      <th>latitude</th>\n",
              "      <th>longitude</th>\n",
              "      <th>category</th>\n",
              "      <th>avg_rating</th>\n",
              "      <th>num_of_reviews</th>\n",
              "      <th>hours</th>\n",
              "      <th>state</th>\n",
              "      <th>relative_results</th>\n",
              "      <th>url</th>\n",
              "    </tr>\n",
              "  </thead>\n",
              "  <tbody>\n",
              "    <tr>\n",
              "      <th>0</th>\n",
              "      <td>Porter Pharmacy</td>\n",
              "      <td>Porter Pharmacy, 129 N Second St, Cochran, GA ...</td>\n",
              "      <td>0x88f16e41928ff687:0x883dad4fd048e8f8</td>\n",
              "      <td>32.388300</td>\n",
              "      <td>-83.357100</td>\n",
              "      <td>['Pharmacy']</td>\n",
              "      <td>4.9</td>\n",
              "      <td>16</td>\n",
              "      <td>[['Friday', '8AM–6PM'], ['Saturday', '8AM–12PM...</td>\n",
              "      <td>Open ⋅ Closes 6PM</td>\n",
              "      <td>['0x88f16e41929435cf:0x5b2532a2885e9ef6', '0x8...</td>\n",
              "      <td>https://www.google.com/maps/place//data=!4m2!3...</td>\n",
              "    </tr>\n",
              "    <tr>\n",
              "      <th>1</th>\n",
              "      <td>City Textile</td>\n",
              "      <td>City Textile, 3001 E Pico Blvd, Los Angeles, C...</td>\n",
              "      <td>0x80c2c98c0e3c16fd:0x29ec8a728764fdf9</td>\n",
              "      <td>34.018891</td>\n",
              "      <td>-118.215290</td>\n",
              "      <td>['Textile exporter']</td>\n",
              "      <td>4.5</td>\n",
              "      <td>6</td>\n",
              "      <td>NaN</td>\n",
              "      <td>Open now</td>\n",
              "      <td>['0x80c2c624136ea88b:0xb0315367ed448771', '0x8...</td>\n",
              "      <td>https://www.google.com/maps/place//data=!4m2!3...</td>\n",
              "    </tr>\n",
              "    <tr>\n",
              "      <th>2</th>\n",
              "      <td>San Soo Dang</td>\n",
              "      <td>San Soo Dang, 761 S Vermont Ave, Los Angeles, ...</td>\n",
              "      <td>0x80c2c778e3b73d33:0xbdc58662a4a97d49</td>\n",
              "      <td>34.058092</td>\n",
              "      <td>-118.292130</td>\n",
              "      <td>['Korean restaurant']</td>\n",
              "      <td>4.4</td>\n",
              "      <td>18</td>\n",
              "      <td>[['Thursday', '6:30AM–6PM'], ['Friday', '6:30A...</td>\n",
              "      <td>Open ⋅ Closes 6PM</td>\n",
              "      <td>['0x80c2c78249aba68f:0x35bf16ce61be751d', '0x8...</td>\n",
              "      <td>https://www.google.com/maps/place//data=!4m2!3...</td>\n",
              "    </tr>\n",
              "    <tr>\n",
              "      <th>3</th>\n",
              "      <td>Nova Fabrics</td>\n",
              "      <td>Nova Fabrics, 2200 E 11th St, Los Angeles, CA ...</td>\n",
              "      <td>0x80c2c89923b27a41:0x32041559418d447</td>\n",
              "      <td>34.023669</td>\n",
              "      <td>-118.232930</td>\n",
              "      <td>['Fabric store']</td>\n",
              "      <td>3.3</td>\n",
              "      <td>6</td>\n",
              "      <td>[['Thursday', '9AM–5PM'], ['Friday', '9AM–5PM'...</td>\n",
              "      <td>Open ⋅ Closes 5PM</td>\n",
              "      <td>['0x80c2c8811477253f:0x23a8a492df1918f7', '0x8...</td>\n",
              "      <td>https://www.google.com/maps/place//data=!4m2!3...</td>\n",
              "    </tr>\n",
              "    <tr>\n",
              "      <th>4</th>\n",
              "      <td>Nobel Textile Co</td>\n",
              "      <td>Nobel Textile Co, 719 E 9th St, Los Angeles, C...</td>\n",
              "      <td>0x80c2c632f933b073:0xc31785961fe826a6</td>\n",
              "      <td>34.036694</td>\n",
              "      <td>-118.249421</td>\n",
              "      <td>['Fabric store']</td>\n",
              "      <td>4.3</td>\n",
              "      <td>7</td>\n",
              "      <td>[['Thursday', '9AM–5PM'], ['Friday', '9AM–5PM'...</td>\n",
              "      <td>Open ⋅ Closes 5PM</td>\n",
              "      <td>['0x80c2c62c496083d1:0xdefa11317fe870a1', '0x8...</td>\n",
              "      <td>https://www.google.com/maps/place//data=!4m2!3...</td>\n",
              "    </tr>\n",
              "    <tr>\n",
              "      <th>...</th>\n",
              "      <td>...</td>\n",
              "      <td>...</td>\n",
              "      <td>...</td>\n",
              "      <td>...</td>\n",
              "      <td>...</td>\n",
              "      <td>...</td>\n",
              "      <td>...</td>\n",
              "      <td>...</td>\n",
              "      <td>...</td>\n",
              "      <td>...</td>\n",
              "      <td>...</td>\n",
              "      <td>...</td>\n",
              "    </tr>\n",
              "    <tr>\n",
              "      <th>2998424</th>\n",
              "      <td>Steak 48</td>\n",
              "      <td>Steak 48, 260 S Broad St, Philadelphia, PA 19102</td>\n",
              "      <td>0x89c6c74f43a49b55:0x6be6995921c58b12</td>\n",
              "      <td>39.947254</td>\n",
              "      <td>-75.164953</td>\n",
              "      <td>['Steak house', 'Fine dining restaurant', 'Sea...</td>\n",
              "      <td>4.6</td>\n",
              "      <td>308</td>\n",
              "      <td>[['Monday', '4–10PM'], ['Tuesday', '4–10PM'], ...</td>\n",
              "      <td>Closed ⋅ Opens 4PM</td>\n",
              "      <td>['0x89c6c7af1a55f4f9:0x589bb93addf7fd95', '0x8...</td>\n",
              "      <td>https://www.google.com/maps/place//data=!4m2!3...</td>\n",
              "    </tr>\n",
              "    <tr>\n",
              "      <th>2998425</th>\n",
              "      <td>Jack Mcnerney Chevrolet, Inc.</td>\n",
              "      <td>Jack Mcnerney Chevrolet, Inc., 363 NY-281, Tul...</td>\n",
              "      <td>0x89da1787d3fdc4a5:0xce92ea6e3cd4d1cc</td>\n",
              "      <td>42.788636</td>\n",
              "      <td>-76.122120</td>\n",
              "      <td>['Chevrolet dealer']</td>\n",
              "      <td>4.4</td>\n",
              "      <td>143</td>\n",
              "      <td>[['Monday', '8:30AM–7PM'], ['Tuesday', '8:30AM...</td>\n",
              "      <td>Open ⋅ Closes 7PM</td>\n",
              "      <td>['0x89d98d228469e435:0x3fdc4fa72594151', '0x89...</td>\n",
              "      <td>https://www.google.com/maps/place//data=!4m2!3...</td>\n",
              "    </tr>\n",
              "    <tr>\n",
              "      <th>2998426</th>\n",
              "      <td>Central Ny Spay Neuter Assista</td>\n",
              "      <td>Central Ny Spay Neuter Assista, 17 Salisbury S...</td>\n",
              "      <td>0x89da6b9ce832726f:0xbd0d3630f1e3b42e</td>\n",
              "      <td>42.603831</td>\n",
              "      <td>-76.165286</td>\n",
              "      <td>['Veterinarian']</td>\n",
              "      <td>4.3</td>\n",
              "      <td>88</td>\n",
              "      <td>NaN</td>\n",
              "      <td>Open now</td>\n",
              "      <td>['0x89da6c67512700cb:0x69892b3a9a648efe', '0x8...</td>\n",
              "      <td>https://www.google.com/maps/place//data=!4m2!3...</td>\n",
              "    </tr>\n",
              "    <tr>\n",
              "      <th>2998427</th>\n",
              "      <td>Ok Feed Store</td>\n",
              "      <td>Ok Feed Store, 16300 SW 296th St, Homestead, F...</td>\n",
              "      <td>0x88d9e872a9e39f3d:0x5de29f50507e5d73</td>\n",
              "      <td>25.491641</td>\n",
              "      <td>-80.456076</td>\n",
              "      <td>['Animal feed store']</td>\n",
              "      <td>4.9</td>\n",
              "      <td>13</td>\n",
              "      <td>[['Monday', '9AM–6PM'], ['Tuesday', '9AM–6PM']...</td>\n",
              "      <td>Open ⋅ Closes 6PM</td>\n",
              "      <td>['0x88d9e86cb955da7b:0xeda838b28926c524', '0x8...</td>\n",
              "      <td>https://www.google.com/maps/place//data=!4m2!3...</td>\n",
              "    </tr>\n",
              "    <tr>\n",
              "      <th>2998428</th>\n",
              "      <td>Crestview Crossing</td>\n",
              "      <td>Crestview Crossing, Newberg, OR 97132</td>\n",
              "      <td>0x54956b3944b1654d:0x7797cead9a485c22</td>\n",
              "      <td>45.310254</td>\n",
              "      <td>-122.935500</td>\n",
              "      <td>['Lodging']</td>\n",
              "      <td>5.0</td>\n",
              "      <td>1</td>\n",
              "      <td>NaN</td>\n",
              "      <td>NaN</td>\n",
              "      <td>NaN</td>\n",
              "      <td>https://www.google.com/maps/place//data=!4m2!3...</td>\n",
              "    </tr>\n",
              "  </tbody>\n",
              "</table>\n",
              "<p>2998429 rows × 12 columns</p>\n",
              "</div>\n",
              "    <div class=\"colab-df-buttons\">\n",
              "\n",
              "  <div class=\"colab-df-container\">\n",
              "    <button class=\"colab-df-convert\" onclick=\"convertToInteractive('df-b51f2bae-3693-416f-a826-f53a96073390')\"\n",
              "            title=\"Convert this dataframe to an interactive table.\"\n",
              "            style=\"display:none;\">\n",
              "\n",
              "  <svg xmlns=\"http://www.w3.org/2000/svg\" height=\"24px\" viewBox=\"0 -960 960 960\">\n",
              "    <path d=\"M120-120v-720h720v720H120Zm60-500h600v-160H180v160Zm220 220h160v-160H400v160Zm0 220h160v-160H400v160ZM180-400h160v-160H180v160Zm440 0h160v-160H620v160ZM180-180h160v-160H180v160Zm440 0h160v-160H620v160Z\"/>\n",
              "  </svg>\n",
              "    </button>\n",
              "\n",
              "  <style>\n",
              "    .colab-df-container {\n",
              "      display:flex;\n",
              "      gap: 12px;\n",
              "    }\n",
              "\n",
              "    .colab-df-convert {\n",
              "      background-color: #E8F0FE;\n",
              "      border: none;\n",
              "      border-radius: 50%;\n",
              "      cursor: pointer;\n",
              "      display: none;\n",
              "      fill: #1967D2;\n",
              "      height: 32px;\n",
              "      padding: 0 0 0 0;\n",
              "      width: 32px;\n",
              "    }\n",
              "\n",
              "    .colab-df-convert:hover {\n",
              "      background-color: #E2EBFA;\n",
              "      box-shadow: 0px 1px 2px rgba(60, 64, 67, 0.3), 0px 1px 3px 1px rgba(60, 64, 67, 0.15);\n",
              "      fill: #174EA6;\n",
              "    }\n",
              "\n",
              "    .colab-df-buttons div {\n",
              "      margin-bottom: 4px;\n",
              "    }\n",
              "\n",
              "    [theme=dark] .colab-df-convert {\n",
              "      background-color: #3B4455;\n",
              "      fill: #D2E3FC;\n",
              "    }\n",
              "\n",
              "    [theme=dark] .colab-df-convert:hover {\n",
              "      background-color: #434B5C;\n",
              "      box-shadow: 0px 1px 3px 1px rgba(0, 0, 0, 0.15);\n",
              "      filter: drop-shadow(0px 1px 2px rgba(0, 0, 0, 0.3));\n",
              "      fill: #FFFFFF;\n",
              "    }\n",
              "  </style>\n",
              "\n",
              "    <script>\n",
              "      const buttonEl =\n",
              "        document.querySelector('#df-b51f2bae-3693-416f-a826-f53a96073390 button.colab-df-convert');\n",
              "      buttonEl.style.display =\n",
              "        google.colab.kernel.accessAllowed ? 'block' : 'none';\n",
              "\n",
              "      async function convertToInteractive(key) {\n",
              "        const element = document.querySelector('#df-b51f2bae-3693-416f-a826-f53a96073390');\n",
              "        const dataTable =\n",
              "          await google.colab.kernel.invokeFunction('convertToInteractive',\n",
              "                                                    [key], {});\n",
              "        if (!dataTable) return;\n",
              "\n",
              "        const docLinkHtml = 'Like what you see? Visit the ' +\n",
              "          '<a target=\"_blank\" href=https://colab.research.google.com/notebooks/data_table.ipynb>data table notebook</a>'\n",
              "          + ' to learn more about interactive tables.';\n",
              "        element.innerHTML = '';\n",
              "        dataTable['output_type'] = 'display_data';\n",
              "        await google.colab.output.renderOutput(dataTable, element);\n",
              "        const docLink = document.createElement('div');\n",
              "        docLink.innerHTML = docLinkHtml;\n",
              "        element.appendChild(docLink);\n",
              "      }\n",
              "    </script>\n",
              "  </div>\n",
              "\n",
              "\n",
              "<div id=\"df-f52f2033-be97-48bf-b67f-7688559fcd64\">\n",
              "  <button class=\"colab-df-quickchart\" onclick=\"quickchart('df-f52f2033-be97-48bf-b67f-7688559fcd64')\"\n",
              "            title=\"Suggest charts\"\n",
              "            style=\"display:none;\">\n",
              "\n",
              "<svg xmlns=\"http://www.w3.org/2000/svg\" height=\"24px\"viewBox=\"0 0 24 24\"\n",
              "     width=\"24px\">\n",
              "    <g>\n",
              "        <path d=\"M19 3H5c-1.1 0-2 .9-2 2v14c0 1.1.9 2 2 2h14c1.1 0 2-.9 2-2V5c0-1.1-.9-2-2-2zM9 17H7v-7h2v7zm4 0h-2V7h2v10zm4 0h-2v-4h2v4z\"/>\n",
              "    </g>\n",
              "</svg>\n",
              "  </button>\n",
              "\n",
              "<style>\n",
              "  .colab-df-quickchart {\n",
              "      --bg-color: #E8F0FE;\n",
              "      --fill-color: #1967D2;\n",
              "      --hover-bg-color: #E2EBFA;\n",
              "      --hover-fill-color: #174EA6;\n",
              "      --disabled-fill-color: #AAA;\n",
              "      --disabled-bg-color: #DDD;\n",
              "  }\n",
              "\n",
              "  [theme=dark] .colab-df-quickchart {\n",
              "      --bg-color: #3B4455;\n",
              "      --fill-color: #D2E3FC;\n",
              "      --hover-bg-color: #434B5C;\n",
              "      --hover-fill-color: #FFFFFF;\n",
              "      --disabled-bg-color: #3B4455;\n",
              "      --disabled-fill-color: #666;\n",
              "  }\n",
              "\n",
              "  .colab-df-quickchart {\n",
              "    background-color: var(--bg-color);\n",
              "    border: none;\n",
              "    border-radius: 50%;\n",
              "    cursor: pointer;\n",
              "    display: none;\n",
              "    fill: var(--fill-color);\n",
              "    height: 32px;\n",
              "    padding: 0;\n",
              "    width: 32px;\n",
              "  }\n",
              "\n",
              "  .colab-df-quickchart:hover {\n",
              "    background-color: var(--hover-bg-color);\n",
              "    box-shadow: 0 1px 2px rgba(60, 64, 67, 0.3), 0 1px 3px 1px rgba(60, 64, 67, 0.15);\n",
              "    fill: var(--button-hover-fill-color);\n",
              "  }\n",
              "\n",
              "  .colab-df-quickchart-complete:disabled,\n",
              "  .colab-df-quickchart-complete:disabled:hover {\n",
              "    background-color: var(--disabled-bg-color);\n",
              "    fill: var(--disabled-fill-color);\n",
              "    box-shadow: none;\n",
              "  }\n",
              "\n",
              "  .colab-df-spinner {\n",
              "    border: 2px solid var(--fill-color);\n",
              "    border-color: transparent;\n",
              "    border-bottom-color: var(--fill-color);\n",
              "    animation:\n",
              "      spin 1s steps(1) infinite;\n",
              "  }\n",
              "\n",
              "  @keyframes spin {\n",
              "    0% {\n",
              "      border-color: transparent;\n",
              "      border-bottom-color: var(--fill-color);\n",
              "      border-left-color: var(--fill-color);\n",
              "    }\n",
              "    20% {\n",
              "      border-color: transparent;\n",
              "      border-left-color: var(--fill-color);\n",
              "      border-top-color: var(--fill-color);\n",
              "    }\n",
              "    30% {\n",
              "      border-color: transparent;\n",
              "      border-left-color: var(--fill-color);\n",
              "      border-top-color: var(--fill-color);\n",
              "      border-right-color: var(--fill-color);\n",
              "    }\n",
              "    40% {\n",
              "      border-color: transparent;\n",
              "      border-right-color: var(--fill-color);\n",
              "      border-top-color: var(--fill-color);\n",
              "    }\n",
              "    60% {\n",
              "      border-color: transparent;\n",
              "      border-right-color: var(--fill-color);\n",
              "    }\n",
              "    80% {\n",
              "      border-color: transparent;\n",
              "      border-right-color: var(--fill-color);\n",
              "      border-bottom-color: var(--fill-color);\n",
              "    }\n",
              "    90% {\n",
              "      border-color: transparent;\n",
              "      border-bottom-color: var(--fill-color);\n",
              "    }\n",
              "  }\n",
              "</style>\n",
              "\n",
              "  <script>\n",
              "    async function quickchart(key) {\n",
              "      const quickchartButtonEl =\n",
              "        document.querySelector('#' + key + ' button');\n",
              "      quickchartButtonEl.disabled = true;  // To prevent multiple clicks.\n",
              "      quickchartButtonEl.classList.add('colab-df-spinner');\n",
              "      try {\n",
              "        const charts = await google.colab.kernel.invokeFunction(\n",
              "            'suggestCharts', [key], {});\n",
              "      } catch (error) {\n",
              "        console.error('Error during call to suggestCharts:', error);\n",
              "      }\n",
              "      quickchartButtonEl.classList.remove('colab-df-spinner');\n",
              "      quickchartButtonEl.classList.add('colab-df-quickchart-complete');\n",
              "    }\n",
              "    (() => {\n",
              "      let quickchartButtonEl =\n",
              "        document.querySelector('#df-f52f2033-be97-48bf-b67f-7688559fcd64 button');\n",
              "      quickchartButtonEl.style.display =\n",
              "        google.colab.kernel.accessAllowed ? 'block' : 'none';\n",
              "    })();\n",
              "  </script>\n",
              "</div>\n",
              "    </div>\n",
              "  </div>\n"
            ]
          },
          "metadata": {},
          "execution_count": 28
        }
      ]
    },
    {
      "cell_type": "code",
      "source": [
        "#verificamos de nuevo la eliminacion de duplicados\n",
        "concatenated_df = concatenated_df.drop_duplicates(keep=\"first\")"
      ],
      "metadata": {
        "id": "V8DQhM9UIFC8"
      },
      "execution_count": null,
      "outputs": []
    },
    {
      "cell_type": "code",
      "source": [
        "# Exportamos el DataFrame concatenado a un archivo CSV\n",
        "concatenated_df.to_csv('metadt.csv', index=False)"
      ],
      "metadata": {
        "id": "19DoidmZHdK3"
      },
      "execution_count": null,
      "outputs": []
    },
    {
      "cell_type": "code",
      "source": [
        "source_path = '/content/metadt.csv'  # Ruta del archivo en Colab\n",
        "destination_path = '/content/drive/MyDrive'  # Ruta de destino en Google Drive\n",
        "#guardamos el archivo en google drive\n",
        "shutil.copy(source_path, destination_path)"
      ],
      "metadata": {
        "colab": {
          "base_uri": "https://localhost:8080/",
          "height": 35
        },
        "id": "Ups77d0nI4k2",
        "outputId": "146fb569-99cb-4608-b081-53c68799e7f1"
      },
      "execution_count": null,
      "outputs": [
        {
          "output_type": "execute_result",
          "data": {
            "text/plain": [
              "'/content/drive/MyDrive/metadt.csv'"
            ],
            "application/vnd.google.colaboratory.intrinsic+json": {
              "type": "string"
            }
          },
          "metadata": {},
          "execution_count": 31
        }
      ]
    },
    {
      "cell_type": "code",
      "source": [
        "#leemos el archivo concatenado\n",
        "metdt = pd.read_csv('/content/drive/MyDrive/metadt.csv')"
      ],
      "metadata": {
        "id": "KyNH8-STctMk"
      },
      "execution_count": null,
      "outputs": []
    },
    {
      "cell_type": "code",
      "source": [
        "#revisamos\n",
        "metdt"
      ],
      "metadata": {
        "id": "ukBO3jLKdRXN"
      },
      "execution_count": null,
      "outputs": []
    },
    {
      "cell_type": "code",
      "source": [
        "#cambiamos la columna category a tipo de dato str\n",
        "metdt['category'] = metdt['category'].astype(str)\n"
      ],
      "metadata": {
        "id": "EQlWXpYqdz2V"
      },
      "execution_count": null,
      "outputs": []
    },
    {
      "cell_type": "code",
      "source": [
        "#creamos funcion para sacar el primer valor de las listas que hay en la columna category\n",
        "def desanidar_columna(columna):\n",
        "  \"\"\"\n",
        "  Desanida una columna de texto.\n",
        "\n",
        "  Args:\n",
        "    columna: La columna de texto a desanidar.\n",
        "\n",
        "  Returns:\n",
        "    La columna desanidada.\n",
        "  \"\"\"\n",
        "\n",
        "  # Obtiene la primera parte de cada texto.\n",
        "  primera_parte = columna.str.split(\",\").str[0]\n",
        "\n",
        "  # Devuelve la columna desanidada.\n",
        "  return primera_parte"
      ],
      "metadata": {
        "id": "FuMkmQvXgVHN"
      },
      "execution_count": null,
      "outputs": []
    },
    {
      "cell_type": "code",
      "source": [
        "#limpiamos los restos como '[]' o ',' para obtener solo el texto\n",
        "def limpiar_columna(columna):\n",
        "  \"\"\"\n",
        "  Limpia una columna de texto.\n",
        "\n",
        "  Args:\n",
        "    columna: La columna de texto a limpiar.\n",
        "\n",
        "  Returns:\n",
        "    La columna limpia.\n",
        "  \"\"\"\n",
        "\n",
        "  # Elimina los caracteres especiales.\n",
        "  limpia = columna.str.replace(\"[\", \"\").str.replace(\"]\", \"\").str.replace(\"'\", \"\")\n",
        "\n",
        "  # Devuelve la columna limpia.\n",
        "  return limpia"
      ],
      "metadata": {
        "id": "RIz-pn4ThW_D"
      },
      "execution_count": null,
      "outputs": []
    },
    {
      "cell_type": "code",
      "source": [
        "# Desanida la columna.\n",
        "metdt[\"category\"] = desanidar_columna(metdt[\"category\"])\n"
      ],
      "metadata": {
        "id": "fT52mrnTgZDN"
      },
      "execution_count": null,
      "outputs": []
    },
    {
      "cell_type": "code",
      "source": [
        "#limpiamos de caracteres especiales\n",
        "metdt[\"category\"] = limpiar_columna(metdt[\"category\"])"
      ],
      "metadata": {
        "colab": {
          "base_uri": "https://localhost:8080/"
        },
        "id": "zQ3qYFghhfx6",
        "outputId": "103f8643-1774-4d27-d923-95319bb262be"
      },
      "execution_count": null,
      "outputs": [
        {
          "output_type": "stream",
          "name": "stderr",
          "text": [
            "<ipython-input-16-977794adcbd3>:13: FutureWarning: The default value of regex will change from True to False in a future version. In addition, single character regular expressions will *not* be treated as literal strings when regex=True.\n",
            "  limpia = columna.str.replace(\"[\", \"\").str.replace(\"]\", \"\").str.replace(\"'\", \"\")\n"
          ]
        }
      ]
    },
    {
      "cell_type": "code",
      "source": [
        "#revisamos cambios\n",
        "metdt"
      ],
      "metadata": {
        "id": "odi5P2Avg2AE"
      },
      "execution_count": null,
      "outputs": []
    }
  ]
}